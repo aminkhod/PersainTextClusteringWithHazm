{
 "cells": [
  {
   "cell_type": "code",
   "execution_count": 27,
   "metadata": {},
   "outputs": [],
   "source": [
    "from __future__ import unicode_literals\n",
    "\n",
    "from sklearn import metrics\n",
    "from sklearn import manifold\n",
    "from sklearn.neighbors import NearestNeighbors\n",
    "from sklearn.metrics.pairwise import euclidean_distances\n",
    "from sklearn.impute import SimpleImputer\n",
    "from sklearn import preprocessing\n",
    "\n",
    "import math\n",
    "import random\n",
    "import time\n",
    "\n",
    "from hazm import *\n",
    "import numpy as np\n",
    "import pandas as pd\n",
    "from collections import Counter\n",
    "import csv, re, pickle\n",
    "\n",
    "from colorama import Back, Fore, Style\n",
    "import time\n",
    "\n",
    "import matplotlib.pyplot as plt\n",
    "from matplotlib import pyplot as plt\n",
    "\n",
    "import pyclustering as pyclus\n",
    "\n",
    "import seaborn as sns\n",
    "sns.set()"
   ]
  },
  {
   "cell_type": "code",
   "execution_count": 28,
   "metadata": {},
   "outputs": [],
   "source": [
    "data = pd.read_excel(\"dataset.xlsx\")\n",
    "reviews = data['question']\n",
    "# rate = data['Score']\n",
    "labels = list(data['subject'])"
   ]
  },
  {
   "cell_type": "code",
   "execution_count": 29,
   "metadata": {},
   "outputs": [],
   "source": [
    "# stopwords_list(reviews,\"dataset1.txt\")"
   ]
  },
  {
   "cell_type": "code",
   "execution_count": 30,
   "metadata": {},
   "outputs": [],
   "source": [
    "# labels"
   ]
  },
  {
   "cell_type": "code",
   "execution_count": 31,
   "metadata": {},
   "outputs": [],
   "source": [
    "\n",
    "\n",
    "RE_USELESS = r'[^\\w]'  # remove useless characters\n",
    "RE_DIGIT = r\"^\\d+\\s|\\s\\d+\\s|\\s\\d+$\"  # remove digits\n",
    "RE_SPACE = r'\\s+'  # remove space\n",
    "RE_EMAILS = r'[\\w\\.-]+@[\\w\\.-]+'\n",
    "RE_URLS = r'http\\S+'\n",
    "RE_WWW = r'www\\S+'\n",
    "\n",
    "\n",
    "def clean_all_save(document, save_file_path):\n",
    "    \"\"\"\n",
    "    this function generate raw persian text, it remove non-persian character\n",
    "    and all numbers and symbols\n",
    "    :param document:\n",
    "    :param save_file_path:\n",
    "    :return:\n",
    "    \"\"\"\n",
    "    with open(save_file_path, 'w') as output:\n",
    "        for sentence in document:\n",
    "            sentence = clean_sentence(sentence)\n",
    "            output.write(sentence + '\\n')\n",
    "    return None\n",
    "\n",
    "\n",
    "def clean_all(document, doc_pattern=r'<TEXT>(.*?)</TEXT>'):\n",
    "    \"\"\"\n",
    "    clean text like hamshahri, irBlogs, and other Treck format\n",
    "    :param document:\n",
    "    :param doc_pattern:\n",
    "    :return:\n",
    "    \"\"\"\n",
    "    clean = ''\n",
    "    document = re.findall(doc_pattern, document, re.DOTALL)\n",
    "    for sentence in document:\n",
    "        sentence = clean_sentence(sentence)\n",
    "        clean += ' \\n' + sentence\n",
    "    return clean\n",
    "\n",
    "\n",
    "def clean_sentence(sentence):\n",
    "    sentence = re.sub(r'[^\\u0621-\\u06ff]', ' ', sentence)\n",
    "    sentence = arToPersianChar(sentence)\n",
    "    sentence = arToPersianNumb(sentence)\n",
    "    sentence = faToEnglishNumb(sentence)\n",
    "    sentence = re.sub(r'[a-zA-Z]', ' ', sentence)\n",
    "    sentence = re.sub(r'[0-9]', ' ', sentence)\n",
    "    sentence = re.sub(RE_WWW, r' ', sentence)\n",
    "    sentence = re.sub(RE_URLS, r' ', sentence)\n",
    "    sentence = re.sub(RE_EMAILS, r' ', sentence)\n",
    "    sentence = re.sub(RE_USELESS, r' ', sentence)\n",
    "    sentence = re.sub(RE_DIGIT, r' ', sentence)\n",
    "    sentence = re.sub(RE_SPACE, r' ', sentence)\n",
    "    return sentence\n",
    "\n",
    "\n",
    "def arToPersianNumb(number):\n",
    "    dic = {\n",
    "        '١': '۱',\n",
    "        '٢': '۲',\n",
    "        '٣': '۳',\n",
    "        '٤': '۴',\n",
    "        '٥': '۵',\n",
    "        '٦': '۶',\n",
    "        '٧': '۷',\n",
    "        '٨': '۸',\n",
    "        '٩': '۹',\n",
    "        '٠': '۰',\n",
    "    }\n",
    "    return multiple_replace(dic, number)\n",
    "\n",
    "\n",
    "def arToPersianChar(userInput):\n",
    "    dic = {\n",
    "        'ك': 'ک',\n",
    "        'دِ': 'د',\n",
    "        'بِ': 'ب',\n",
    "        'زِ': 'ز',\n",
    "        'ذِ': 'ذ',\n",
    "        'شِ': 'ش',\n",
    "        'سِ': 'س',\n",
    "        'ى': 'ی',\n",
    "        'ي': 'ی'\n",
    "    }\n",
    "    return multiple_replace(dic, userInput)\n",
    "\n",
    "\n",
    "def faToEnglishNumb(number):\n",
    "    dic = {\n",
    "        '۰': '0',\n",
    "        '۱': '1',\n",
    "        '۲': '2',\n",
    "        '۳': '3',\n",
    "        '۴': '4',\n",
    "        '۵': '5',\n",
    "        '۶': '6',\n",
    "        '۷': '7',\n",
    "        '۸': '8',\n",
    "        '۹': '9',\n",
    "    }\n",
    "    return multiple_replace(dic, number)\n",
    "\n",
    "\n",
    "def multiple_replace(dic, text):\n",
    "    pattern = \"|\".join(map(re.escape, dic.keys()))\n",
    "    return re.sub(pattern, lambda m: dic[m.group()], str(text))"
   ]
  },
  {
   "cell_type": "code",
   "execution_count": 32,
   "metadata": {},
   "outputs": [],
   "source": [
    "def clean_all(document):\n",
    "    clean = ''\n",
    "    for sentence in document:\n",
    "        sentence = clean_sentence(sentence)\n",
    "        clean += sentence\n",
    "    return clean"
   ]
  },
  {
   "cell_type": "code",
   "execution_count": 33,
   "metadata": {},
   "outputs": [],
   "source": [
    "j = k = i = 0\n",
    "reviews1 = []\n",
    "labels1 = []\n",
    "# labels1 = list(labels.copy())\n",
    "normalizer = Normalizer()\n",
    "for review in reviews:\n",
    "    sentences = sent_tokenize(normalizer.normalize(clean_all(review)))\n",
    "    reviews1.extend(sentences)\n",
    "    for j in range(len(sentences)):\n",
    "        labels1.insert(i + k, labels[i])\n",
    "        k += 1\n",
    "    i += 1"
   ]
  },
  {
   "cell_type": "code",
   "execution_count": 34,
   "metadata": {},
   "outputs": [
    {
     "name": "stdout",
     "output_type": "stream",
     "text": [
      "79 79\n"
     ]
    }
   ],
   "source": [
    "print(len(reviews1),len(labels1))"
   ]
  },
  {
   "cell_type": "code",
   "execution_count": 35,
   "metadata": {},
   "outputs": [
    {
     "data": {
      "text/plain": [
       "'سلام خدمت اساتید محترم . سوال داشتم برای فراموش کردن اسمی که با دیدن ویا اوری اون اسم احساس گناه در گذشته تجسم میشه برام چطور میتونم از این که اون اسم شی که یاد اور اون کار هست و هر دفعه با دیدن یا شنیدن اون اسم خاص حالت تشوش و دلهره میگیرم را از بین ببرم؟ تو اون لحظه کلا که اون اسم برام تداعی میشه احساس بدی به اون پیدا کردم وطوریه که اون اسم همه جا هم هست و نمیشه از ش فرارکرد..ایا باید دباره اون اتفاق را بازسازی کنم و خودم را ببخشم؟ البته میخام اینکار بکنم ولی سخته برام…'"
      ]
     },
     "execution_count": 35,
     "metadata": {},
     "output_type": "execute_result"
    }
   ],
   "source": [
    "reviews[4]"
   ]
  },
  {
   "cell_type": "code",
   "execution_count": 36,
   "metadata": {},
   "outputs": [
    {
     "data": {
      "text/plain": [
       "6671"
      ]
     },
     "execution_count": 36,
     "metadata": {},
     "output_type": "execute_result"
    }
   ],
   "source": [
    "#cleaning dataset\n",
    "words=[]\n",
    "all_text = ''\n",
    "# stemmer = Stemmer()\n",
    "for t in range (len(reviews1)):\n",
    "    text = reviews1[t]\n",
    "    text = text.replace('\\u200c',' ')\n",
    "    text = text.replace('\\u200f',' ')\n",
    "    text = re.sub(r'[^a-zA-Z0-9آ-ی۰-۹ ]', ' ', text)\n",
    "    all_text += text\n",
    "    all_text += ' '\n",
    "    wordsInText = text.split()\n",
    "    for word in wordsInText:\n",
    "#         word = stemmer.stem(word)\n",
    "        if word != ' ' or word != '':\n",
    "            words.append(word)\n",
    "len(words)"
   ]
  },
  {
   "cell_type": "code",
   "execution_count": 37,
   "metadata": {},
   "outputs": [
    {
     "data": {
      "text/plain": [
       "31806"
      ]
     },
     "execution_count": 37,
     "metadata": {},
     "output_type": "execute_result"
    }
   ],
   "source": [
    "len(all_text)"
   ]
  },
  {
   "cell_type": "code",
   "execution_count": 38,
   "metadata": {},
   "outputs": [
    {
     "data": {
      "text/plain": [
       "'\\nwith open(\"mySavedDict.txt\", \"rb\") as myFile:\\n    myNewPulledInDictionary = pickle.load(myFile)\\n'"
      ]
     },
     "execution_count": 38,
     "metadata": {},
     "output_type": "execute_result"
    }
   ],
   "source": [
    "counts = Counter(words)\n",
    "vocab = sorted(counts, key=counts.get, reverse=True)\n",
    "vocab_to_int = {word: ii for ii, word in enumerate(vocab, 1)}\n",
    "\n",
    "with open(\"mySavedDict.txt\", \"wb\") as myFile:\n",
    "    pickle.dump(vocab_to_int, myFile)\n",
    "\n",
    "'''\n",
    "with open(\"mySavedDict.txt\", \"rb\") as myFile:\n",
    "    myNewPulledInDictionary = pickle.load(myFile)\n",
    "'''"
   ]
  },
  {
   "cell_type": "code",
   "execution_count": 39,
   "metadata": {},
   "outputs": [],
   "source": [
    "# vocab"
   ]
  },
  {
   "cell_type": "code",
   "execution_count": 40,
   "metadata": {},
   "outputs": [
    {
     "name": "stdout",
     "output_type": "stream",
     "text": [
      "Zero-length reviews: 0\n",
      "Maximum review length: 218\n"
     ]
    }
   ],
   "source": [
    "reviews_ints = []\n",
    "for each in reviews1:\n",
    "    #print (each)\n",
    "    each = each.replace('\\u200c',' ')\n",
    "    each = each.replace('\\u200f',' ')\n",
    "    each = re.sub(r'[^a-zA-Z0-9آ-ی۰-۹ ]', ' ', each)\n",
    "    reviews_ints.append([vocab_to_int[word] for word in each.split()])\n",
    "\n",
    "\n",
    "review_lens = Counter([len(x) for x in reviews_ints])\n",
    "print(\"Zero-length reviews: {}\".format(review_lens[0]))\n",
    "print(\"Maximum review length: {}\".format(max(review_lens)))\n"
   ]
  },
  {
   "cell_type": "code",
   "execution_count": 41,
   "metadata": {},
   "outputs": [],
   "source": [
    "# reviews_ints[1]"
   ]
  },
  {
   "cell_type": "code",
   "execution_count": 42,
   "metadata": {},
   "outputs": [
    {
     "name": "stdout",
     "output_type": "stream",
     "text": [
      "min lenght: 9  and max lenght: 218  and mean lenght: 84.44303797468355\n"
     ]
    }
   ],
   "source": [
    "mi = 15000\n",
    "su = ma = 0\n",
    "i = 0\n",
    "low = []\n",
    "for each in reviews_ints:\n",
    "    if len(each) == 2 or len(each) == 1:\n",
    "        low.append(i)\n",
    "    if len(each) <= mi:\n",
    "#         print(each,i,len(each))\n",
    "        mi = len(each)\n",
    "    if len(each) > ma:\n",
    "        ma = len(each)\n",
    "    su += len(each)\n",
    "    i += 1\n",
    "print('min lenght: '+str(mi),' and max lenght: '+str(ma),' and mean lenght: '+str(su/len(reviews_ints)))\n",
    "\n"
   ]
  },
  {
   "cell_type": "code",
   "execution_count": 43,
   "metadata": {},
   "outputs": [
    {
     "data": {
      "text/plain": [
       "79"
      ]
     },
     "execution_count": 43,
     "metadata": {},
     "output_type": "execute_result"
    }
   ],
   "source": [
    "reviews_ints22 = reviews_ints.copy()\n",
    "for i in range(len(low)):\n",
    "    print(reviews_ints22.pop(low[len(low)- i -1]),low[len(low)- i -1])\n",
    "len(reviews_ints22)\n"
   ]
  },
  {
   "cell_type": "code",
   "execution_count": 44,
   "metadata": {},
   "outputs": [],
   "source": [
    "reviews_ints = reviews_ints22.copy()"
   ]
  },
  {
   "cell_type": "code",
   "execution_count": 45,
   "metadata": {},
   "outputs": [
    {
     "name": "stdout",
     "output_type": "stream",
     "text": [
      "1930\n"
     ]
    }
   ],
   "source": [
    "# lstm_size = 256\n",
    "# lstm_layers = 1\n",
    "# batch_size = 200\n",
    "# learning_rate = 0.001\n",
    "\n",
    "# data_dim = 16\n",
    "# timesteps = 25\n",
    "# num_classes = 2\n",
    "\n",
    "n_words = len(vocab)\n",
    "print (n_words)"
   ]
  },
  {
   "cell_type": "code",
   "execution_count": 46,
   "metadata": {},
   "outputs": [
    {
     "data": {
      "text/html": [
       "<div>\n",
       "<style scoped>\n",
       "    .dataframe tbody tr th:only-of-type {\n",
       "        vertical-align: middle;\n",
       "    }\n",
       "\n",
       "    .dataframe tbody tr th {\n",
       "        vertical-align: top;\n",
       "    }\n",
       "\n",
       "    .dataframe thead th {\n",
       "        text-align: right;\n",
       "    }\n",
       "</style>\n",
       "<table border=\"1\" class=\"dataframe\">\n",
       "  <thead>\n",
       "    <tr style=\"text-align: right;\">\n",
       "      <th></th>\n",
       "      <th>0</th>\n",
       "      <th>1</th>\n",
       "      <th>2</th>\n",
       "      <th>3</th>\n",
       "      <th>4</th>\n",
       "      <th>5</th>\n",
       "      <th>6</th>\n",
       "      <th>7</th>\n",
       "      <th>8</th>\n",
       "      <th>9</th>\n",
       "      <th>...</th>\n",
       "      <th>20</th>\n",
       "      <th>21</th>\n",
       "      <th>22</th>\n",
       "      <th>23</th>\n",
       "      <th>24</th>\n",
       "      <th>25</th>\n",
       "      <th>26</th>\n",
       "      <th>27</th>\n",
       "      <th>28</th>\n",
       "      <th>29</th>\n",
       "    </tr>\n",
       "  </thead>\n",
       "  <tbody>\n",
       "    <tr>\n",
       "      <th>0</th>\n",
       "      <td>11</td>\n",
       "      <td>199</td>\n",
       "      <td>92</td>\n",
       "      <td>17</td>\n",
       "      <td>37</td>\n",
       "      <td>1</td>\n",
       "      <td>23</td>\n",
       "      <td>200</td>\n",
       "      <td>8</td>\n",
       "      <td>6</td>\n",
       "      <td>...</td>\n",
       "      <td>3</td>\n",
       "      <td>728</td>\n",
       "      <td>8</td>\n",
       "      <td>729</td>\n",
       "      <td>83</td>\n",
       "      <td>730</td>\n",
       "      <td>1</td>\n",
       "      <td>731</td>\n",
       "      <td>4</td>\n",
       "      <td>17</td>\n",
       "    </tr>\n",
       "    <tr>\n",
       "      <th>1</th>\n",
       "      <td>6</td>\n",
       "      <td>11</td>\n",
       "      <td>2</td>\n",
       "      <td>94</td>\n",
       "      <td>755</td>\n",
       "      <td>6</td>\n",
       "      <td>203</td>\n",
       "      <td>28</td>\n",
       "      <td>756</td>\n",
       "      <td>76</td>\n",
       "      <td>...</td>\n",
       "      <td>762</td>\n",
       "      <td>763</td>\n",
       "      <td>764</td>\n",
       "      <td>45</td>\n",
       "      <td>463</td>\n",
       "      <td>20</td>\n",
       "      <td>10</td>\n",
       "      <td>765</td>\n",
       "      <td>464</td>\n",
       "      <td>766</td>\n",
       "    </tr>\n",
       "    <tr>\n",
       "      <th>2</th>\n",
       "      <td>6</td>\n",
       "      <td>11</td>\n",
       "      <td>468</td>\n",
       "      <td>8</td>\n",
       "      <td>17</td>\n",
       "      <td>4</td>\n",
       "      <td>778</td>\n",
       "      <td>779</td>\n",
       "      <td>153</td>\n",
       "      <td>201</td>\n",
       "      <td>...</td>\n",
       "      <td>782</td>\n",
       "      <td>1</td>\n",
       "      <td>322</td>\n",
       "      <td>783</td>\n",
       "      <td>784</td>\n",
       "      <td>1</td>\n",
       "      <td>323</td>\n",
       "      <td>52</td>\n",
       "      <td>3</td>\n",
       "      <td>785</td>\n",
       "    </tr>\n",
       "    <tr>\n",
       "      <th>3</th>\n",
       "      <td>6</td>\n",
       "      <td>11</td>\n",
       "      <td>253</td>\n",
       "      <td>2</td>\n",
       "      <td>9</td>\n",
       "      <td>801</td>\n",
       "      <td>3</td>\n",
       "      <td>20</td>\n",
       "      <td>2</td>\n",
       "      <td>9</td>\n",
       "      <td>...</td>\n",
       "      <td>254</td>\n",
       "      <td>6</td>\n",
       "      <td>803</td>\n",
       "      <td>4</td>\n",
       "      <td>20</td>\n",
       "      <td>2</td>\n",
       "      <td>9</td>\n",
       "      <td>9</td>\n",
       "      <td>804</td>\n",
       "      <td>21</td>\n",
       "    </tr>\n",
       "    <tr>\n",
       "      <th>4</th>\n",
       "      <td>11</td>\n",
       "      <td>482</td>\n",
       "      <td>812</td>\n",
       "      <td>813</td>\n",
       "      <td>258</td>\n",
       "      <td>79</td>\n",
       "      <td>80</td>\n",
       "      <td>814</td>\n",
       "      <td>178</td>\n",
       "      <td>815</td>\n",
       "      <td>...</td>\n",
       "      <td>259</td>\n",
       "      <td>818</td>\n",
       "      <td>87</td>\n",
       "      <td>156</td>\n",
       "      <td>484</td>\n",
       "      <td>333</td>\n",
       "      <td>3</td>\n",
       "      <td>10</td>\n",
       "      <td>4</td>\n",
       "      <td>19</td>\n",
       "    </tr>\n",
       "    <tr>\n",
       "      <th>...</th>\n",
       "      <td>...</td>\n",
       "      <td>...</td>\n",
       "      <td>...</td>\n",
       "      <td>...</td>\n",
       "      <td>...</td>\n",
       "      <td>...</td>\n",
       "      <td>...</td>\n",
       "      <td>...</td>\n",
       "      <td>...</td>\n",
       "      <td>...</td>\n",
       "      <td>...</td>\n",
       "      <td>...</td>\n",
       "      <td>...</td>\n",
       "      <td>...</td>\n",
       "      <td>...</td>\n",
       "      <td>...</td>\n",
       "      <td>...</td>\n",
       "      <td>...</td>\n",
       "      <td>...</td>\n",
       "      <td>...</td>\n",
       "      <td>...</td>\n",
       "    </tr>\n",
       "    <tr>\n",
       "      <th>74</th>\n",
       "      <td>0</td>\n",
       "      <td>0</td>\n",
       "      <td>0</td>\n",
       "      <td>0</td>\n",
       "      <td>0</td>\n",
       "      <td>11</td>\n",
       "      <td>2</td>\n",
       "      <td>116</td>\n",
       "      <td>1</td>\n",
       "      <td>441</td>\n",
       "      <td>...</td>\n",
       "      <td>99</td>\n",
       "      <td>49</td>\n",
       "      <td>82</td>\n",
       "      <td>3</td>\n",
       "      <td>367</td>\n",
       "      <td>13</td>\n",
       "      <td>549</td>\n",
       "      <td>29</td>\n",
       "      <td>57</td>\n",
       "      <td>725</td>\n",
       "    </tr>\n",
       "    <tr>\n",
       "      <th>75</th>\n",
       "      <td>0</td>\n",
       "      <td>0</td>\n",
       "      <td>0</td>\n",
       "      <td>0</td>\n",
       "      <td>0</td>\n",
       "      <td>0</td>\n",
       "      <td>11</td>\n",
       "      <td>2</td>\n",
       "      <td>23</td>\n",
       "      <td>75</td>\n",
       "      <td>...</td>\n",
       "      <td>1904</td>\n",
       "      <td>1905</td>\n",
       "      <td>1906</td>\n",
       "      <td>265</td>\n",
       "      <td>1907</td>\n",
       "      <td>138</td>\n",
       "      <td>1908</td>\n",
       "      <td>29</td>\n",
       "      <td>57</td>\n",
       "      <td>18</td>\n",
       "    </tr>\n",
       "    <tr>\n",
       "      <th>76</th>\n",
       "      <td>11</td>\n",
       "      <td>66</td>\n",
       "      <td>279</td>\n",
       "      <td>57</td>\n",
       "      <td>84</td>\n",
       "      <td>2</td>\n",
       "      <td>1909</td>\n",
       "      <td>22</td>\n",
       "      <td>16</td>\n",
       "      <td>300</td>\n",
       "      <td>...</td>\n",
       "      <td>672</td>\n",
       "      <td>5</td>\n",
       "      <td>1914</td>\n",
       "      <td>104</td>\n",
       "      <td>12</td>\n",
       "      <td>426</td>\n",
       "      <td>1915</td>\n",
       "      <td>141</td>\n",
       "      <td>61</td>\n",
       "      <td>1916</td>\n",
       "    </tr>\n",
       "    <tr>\n",
       "      <th>77</th>\n",
       "      <td>11</td>\n",
       "      <td>2</td>\n",
       "      <td>107</td>\n",
       "      <td>17</td>\n",
       "      <td>22</td>\n",
       "      <td>5</td>\n",
       "      <td>1917</td>\n",
       "      <td>265</td>\n",
       "      <td>1</td>\n",
       "      <td>1918</td>\n",
       "      <td>...</td>\n",
       "      <td>14</td>\n",
       "      <td>156</td>\n",
       "      <td>122</td>\n",
       "      <td>449</td>\n",
       "      <td>151</td>\n",
       "      <td>44</td>\n",
       "      <td>1919</td>\n",
       "      <td>1920</td>\n",
       "      <td>5</td>\n",
       "      <td>716</td>\n",
       "    </tr>\n",
       "    <tr>\n",
       "      <th>78</th>\n",
       "      <td>2</td>\n",
       "      <td>116</td>\n",
       "      <td>16</td>\n",
       "      <td>356</td>\n",
       "      <td>614</td>\n",
       "      <td>406</td>\n",
       "      <td>8</td>\n",
       "      <td>4</td>\n",
       "      <td>266</td>\n",
       "      <td>602</td>\n",
       "      <td>...</td>\n",
       "      <td>155</td>\n",
       "      <td>146</td>\n",
       "      <td>123</td>\n",
       "      <td>2</td>\n",
       "      <td>21</td>\n",
       "      <td>428</td>\n",
       "      <td>145</td>\n",
       "      <td>167</td>\n",
       "      <td>12</td>\n",
       "      <td>591</td>\n",
       "    </tr>\n",
       "  </tbody>\n",
       "</table>\n",
       "<p>79 rows × 30 columns</p>\n",
       "</div>"
      ],
      "text/plain": [
       "    0    1    2    3    4    5     6    7    8     9   ...    20    21    22  \\\n",
       "0   11  199   92   17   37    1    23  200    8     6  ...     3   728     8   \n",
       "1    6   11    2   94  755    6   203   28  756    76  ...   762   763   764   \n",
       "2    6   11  468    8   17    4   778  779  153   201  ...   782     1   322   \n",
       "3    6   11  253    2    9  801     3   20    2     9  ...   254     6   803   \n",
       "4   11  482  812  813  258   79    80  814  178   815  ...   259   818    87   \n",
       "..  ..  ...  ...  ...  ...  ...   ...  ...  ...   ...  ...   ...   ...   ...   \n",
       "74   0    0    0    0    0   11     2  116    1   441  ...    99    49    82   \n",
       "75   0    0    0    0    0    0    11    2   23    75  ...  1904  1905  1906   \n",
       "76  11   66  279   57   84    2  1909   22   16   300  ...   672     5  1914   \n",
       "77  11    2  107   17   22    5  1917  265    1  1918  ...    14   156   122   \n",
       "78   2  116   16  356  614  406     8    4  266   602  ...   155   146   123   \n",
       "\n",
       "     23    24   25    26    27   28    29  \n",
       "0   729    83  730     1   731    4    17  \n",
       "1    45   463   20    10   765  464   766  \n",
       "2   783   784    1   323    52    3   785  \n",
       "3     4    20    2     9     9  804    21  \n",
       "4   156   484  333     3    10    4    19  \n",
       "..  ...   ...  ...   ...   ...  ...   ...  \n",
       "74    3   367   13   549    29   57   725  \n",
       "75  265  1907  138  1908    29   57    18  \n",
       "76  104    12  426  1915   141   61  1916  \n",
       "77  449   151   44  1919  1920    5   716  \n",
       "78    2    21  428   145   167   12   591  \n",
       "\n",
       "[79 rows x 30 columns]"
      ]
     },
     "execution_count": 46,
     "metadata": {},
     "output_type": "execute_result"
    }
   ],
   "source": [
    "seq_len = 30\n",
    "features = np.zeros((len(reviews_ints), seq_len), dtype=int)\n",
    "\n",
    "for i, row in enumerate(reviews_ints):\n",
    "#     print (i , row)\n",
    "#     print (i )\n",
    "#     print ('****')\n",
    "    features[i, -len(row):] = np.array(row)[:seq_len]\n",
    "pd.DataFrame(features)"
   ]
  },
  {
   "cell_type": "code",
   "execution_count": 47,
   "metadata": {},
   "outputs": [],
   "source": [
    "import configparser\n",
    "import numpy as np\n",
    "import pandas as pd\n",
    "\n",
    "from cluster import Clustering\n",
    "from genetic import Genetic\n",
    "from generation import Generation\n",
    "\n"
   ]
  },
  {
   "cell_type": "code",
   "execution_count": 48,
   "metadata": {},
   "outputs": [],
   "source": [
    "\n",
    "\n",
    "NORMALIZATION = True\n",
    "\n",
    "\n",
    "def readVars(config_file):\n",
    "    config = configparser.ConfigParser()\n",
    "    config.read(config_file)\n",
    "    budget = int(config.get(\"vars\", \"budget\"))\n",
    "    kmax = int(config.get(\"vars\", \"kmax\"))  # Maximum number of Clusters\n",
    "    numOfInd = int(config.get(\"vars\", \"numOfInd\"))  # number of individual\n",
    "    Ps = float(config.get(\"vars\", \"Ps\"))\n",
    "    Pm = float(config.get(\"vars\", \"Pm\"))\n",
    "    Pc = float(config.get(\"vars\", \"Pc\"))\n",
    "\n",
    "    return budget, kmax, Ps, Pm, Pc, numOfInd\n",
    "\n",
    "\n",
    "# minmax normalization\n",
    "def minmax(data):\n",
    "    normData = data\n",
    "    data = data.astype(float)\n",
    "    normData = normData.astype(float)\n",
    "    for i in range(0, data.shape[1]):\n",
    "        tmp = data.iloc[:, i]\n",
    "        # max of each column\n",
    "        maxElement = np.amax(tmp)\n",
    "        # min of each column\n",
    "        minElement = np.amin(tmp)\n",
    "\n",
    "        # norm_dat.shape[0] : size of row\n",
    "        for j in range(0, normData.shape[0]):\n",
    "            normData[i][j] = float(\n",
    "                data[i][j] - minElement) / (maxElement - minElement)\n",
    "\n",
    "    normData.to_csv('result/norm_data.csv', index=None, header=None)\n",
    "    return normData\n",
    "data = pd.DataFrame(features)\n",
    "data = minmax(data)  # normalize"
   ]
  },
  {
   "cell_type": "code",
   "execution_count": 30,
   "metadata": {
    "scrolled": true
   },
   "outputs": [
    {
     "name": "stdout",
     "output_type": "stream",
     "text": [
      "-------------GA Info-------------------\n",
      "budget 30\n",
      "kmax 8\n",
      "numOfInd 20\n",
      "Ps 0.2\n",
      "Pm 0.02\n",
      "Pc 0.8\n",
      "---------------------------------------\n",
      "------------Generation: 0 -----------------\n",
      "iBest Fitness: 0.4155034542310613\n",
      "all index: [0, 6, 0, 4, 0, 6, 6, 3, 4, 6, 0, 0, 6, 2, 6, 6, 6, 4, 4, 3, 6, 6, 0, 0, 3, 4, 4, 6, 0, 6, 0, 6, 0, 6, 4, 6, 4, 3, 4, 7, 4, 7, 0, 0, 6, 6, 2, 3, 6, 6, 3, 2, 0, 6, 4, 0, 6, 6, 4, 6, 3, 4, 4, 0, 3, 6, 7, 4, 3, 6, 4, 6, 4, 3, 6, 3, 3, 0, 4]\n",
      "Clusters centroid:\n",
      "centroid 0  : [0.62, 0.53, 0.97, 0.03, 0.68, 0.15, 0.16, 0.64, 0.05, 0.86, 0.24, 0.2, 0.03, 0.24, 0.23, 0.15, 0.06, 0.55, 0.44, 0.03, 0.91, 0.75, 0.22, 0.57, 0.97, 0.69, 0.28, 0.93, 0.37, 0.29]\n",
      "centroid 1  : [0.11, 0.79, 0.52, 0.4, 0.56, 0.59, 0.86, 0.63, 0.11, 0.72, 0.28, 0.96, 0.05, 0.8, 0.19, 0.64, 0.63, 0.83, 0.97, 0.85, 0.05, 0.68, 0.97, 0.92, 0.45, 0.17, 0.86, 0.95, 0.17, 0.14]\n",
      "centroid 2  : [0.98, 0.24, 0.12, 0.25, 1.0, 0.18, 0.05, 0.89, 0.7, 0.05, 0.14, 0.01, 0.66, 0.93, 0.03, 0.01, 0.18, 0.04, 0.05, 0.48, 0.95, 0.45, 0.27, 0.48, 0.84, 0.9, 0.79, 0.56, 0.61, 0.22]\n",
      "centroid 3  : [0.76, 0.41, 0.02, 0.78, 0.72, 0.44, 0.72, 0.39, 0.15, 0.18, 0.18, 0.32, 0.22, 0.69, 0.1, 0.74, 0.91, 0.03, 0.92, 0.32, 0.67, 0.79, 0.13, 0.62, 0.35, 0.73, 0.85, 0.16, 0.41, 0.44]\n",
      "centroid 4  : [0.17, 0.36, 0.77, 0.26, 0.97, 0.96, 0.35, 0.35, 0.66, 0.17, 0.58, 0.28, 0.17, 0.53, 0.26, 0.24, 0.63, 0.21, 0.67, 0.68, 0.65, 0.67, 0.31, 0.17, 0.37, 0.0, 0.01, 0.6, 0.76, 0.98]\n",
      "centroid 5  : [0.7, 0.94, 0.99, 0.91, 0.68, 0.99, 0.08, 0.58, 0.09, 0.1, 0.18, 0.36, 0.88, 0.22, 0.37, 0.42, 0.55, 0.44, 0.84, 0.81, 0.92, 0.53, 0.93, 0.71, 0.75, 0.46, 0.57, 0.39, 0.36, 0.89]\n",
      "centroid 6  : [0.11, 0.45, 0.12, 0.78, 0.79, 0.48, 0.46, 0.19, 0.82, 0.37, 0.75, 0.4, 0.52, 0.03, 0.53, 0.08, 0.62, 0.92, 0.01, 0.49, 0.31, 0.83, 0.86, 0.17, 0.33, 0.24, 0.03, 0.29, 0.93, 0.02]\n",
      "centroid 7  : [0.99, 0.67, 0.45, 0.62, 0.31, 0.32, 0.13, 0.81, 0.95, 0.77, 0.56, 0.61, 0.87, 0.32, 0.64, 0.18, 0.98, 0.04, 0.8, 0.02, 0.55, 0.99, 0.14, 0.66, 0.99, 0.54, 0.45, 0.26, 0.33, 0.1]\n",
      "------------Generation: 1 -----------------\n",
      "iBest Fitness: 0.4155034542310613\n",
      "all index: [0, 6, 0, 4, 0, 6, 6, 3, 4, 6, 0, 0, 6, 2, 6, 6, 6, 4, 4, 3, 6, 6, 0, 0, 3, 4, 4, 6, 0, 6, 0, 6, 0, 6, 4, 6, 4, 3, 4, 7, 4, 7, 0, 0, 6, 6, 2, 3, 6, 6, 3, 2, 0, 6, 4, 0, 6, 6, 4, 6, 3, 4, 4, 0, 3, 6, 7, 4, 3, 6, 4, 6, 4, 3, 6, 3, 3, 0, 4]\n",
      "Clusters centroid:\n",
      "centroid 0  : [0.62, 0.53, 0.97, 0.03, 0.68, 0.15, 0.16, 0.64, 0.05, 0.86, 0.24, 0.2, 0.03, 0.24, 0.23, 0.15, 0.06, 0.55, 0.44, 0.03, 0.91, 0.75, 0.22, 0.57, 0.97, 0.69, 0.28, 0.93, 0.37, 0.29]\n",
      "centroid 1  : [0.11, 0.79, 0.52, 0.4, 0.56, 0.59, 0.86, 0.63, 0.11, 0.72, 0.28, 0.96, 0.05, 0.8, 0.19, 0.64, 0.63, 0.83, 0.97, 0.85, 0.05, 0.68, 0.97, 0.92, 0.45, 0.17, 0.86, 0.95, 0.17, 0.14]\n",
      "centroid 2  : [0.98, 0.24, 0.12, 0.25, 1.0, 0.18, 0.05, 0.89, 0.7, 0.05, 0.14, 0.01, 0.66, 0.93, 0.03, 0.01, 0.18, 0.04, 0.05, 0.48, 0.95, 0.45, 0.27, 0.48, 0.84, 0.9, 0.79, 0.56, 0.61, 0.22]\n",
      "centroid 3  : [0.76, 0.41, 0.02, 0.78, 0.72, 0.44, 0.72, 0.39, 0.15, 0.18, 0.18, 0.32, 0.22, 0.69, 0.1, 0.74, 0.91, 0.03, 0.92, 0.32, 0.67, 0.79, 0.13, 0.62, 0.35, 0.73, 0.85, 0.16, 0.41, 0.44]\n",
      "centroid 4  : [0.17, 0.36, 0.77, 0.26, 0.97, 0.96, 0.35, 0.35, 0.66, 0.17, 0.58, 0.28, 0.17, 0.53, 0.26, 0.24, 0.63, 0.21, 0.67, 0.68, 0.65, 0.67, 0.31, 0.17, 0.37, 0.0, 0.01, 0.6, 0.76, 0.98]\n",
      "centroid 5  : [0.7, 0.94, 0.99, 0.91, 0.68, 0.99, 0.08, 0.58, 0.09, 0.1, 0.18, 0.36, 0.88, 0.22, 0.37, 0.42, 0.55, 0.44, 0.84, 0.81, 0.92, 0.53, 0.93, 0.71, 0.75, 0.46, 0.57, 0.39, 0.36, 0.89]\n",
      "centroid 6  : [0.11, 0.45, 0.12, 0.78, 0.79, 0.48, 0.46, 0.19, 0.82, 0.37, 0.75, 0.4, 0.52, 0.03, 0.53, 0.08, 0.62, 0.92, 0.01, 0.49, 0.31, 0.83, 0.86, 0.17, 0.33, 0.24, 0.03, 0.29, 0.93, 0.02]\n",
      "centroid 7  : [0.99, 0.67, 0.45, 0.62, 0.31, 0.32, 0.13, 0.81, 0.95, 0.77, 0.56, 0.61, 0.87, 0.32, 0.64, 0.18, 0.98, 0.04, 0.8, 0.02, 0.55, 0.99, 0.14, 0.66, 0.99, 0.54, 0.45, 0.26, 0.33, 0.1]\n",
      "------------Generation: 2 -----------------\n",
      "iBest Fitness: 0.4155034542310613\n",
      "all index: [0, 6, 0, 4, 0, 6, 6, 3, 4, 6, 0, 0, 6, 2, 6, 6, 6, 4, 4, 3, 6, 6, 0, 0, 3, 4, 4, 6, 0, 6, 0, 6, 0, 6, 4, 6, 4, 3, 4, 7, 4, 7, 0, 0, 6, 6, 2, 3, 6, 6, 3, 2, 0, 6, 4, 0, 6, 6, 4, 6, 3, 4, 4, 0, 3, 6, 7, 4, 3, 6, 4, 6, 4, 3, 6, 3, 3, 0, 4]\n",
      "Clusters centroid:\n",
      "centroid 0  : [0.62, 0.53, 0.97, 0.03, 0.68, 0.15, 0.16, 0.64, 0.05, 0.86, 0.24, 0.2, 0.03, 0.24, 0.23, 0.15, 0.06, 0.55, 0.44, 0.03, 0.91, 0.75, 0.22, 0.57, 0.97, 0.69, 0.28, 0.93, 0.37, 0.29]\n",
      "centroid 1  : [0.11, 0.79, 0.52, 0.4, 0.56, 0.59, 0.86, 0.63, 0.11, 0.72, 0.28, 0.96, 0.05, 0.8, 0.19, 0.64, 0.63, 0.83, 0.97, 0.85, 0.05, 0.68, 0.97, 0.92, 0.45, 0.17, 0.86, 0.95, 0.17, 0.14]\n",
      "centroid 2  : [0.98, 0.24, 0.12, 0.25, 1.0, 0.18, 0.05, 0.89, 0.7, 0.05, 0.14, 0.01, 0.66, 0.93, 0.03, 0.01, 0.18, 0.04, 0.05, 0.48, 0.95, 0.45, 0.27, 0.48, 0.84, 0.9, 0.79, 0.56, 0.61, 0.22]\n",
      "centroid 3  : [0.76, 0.41, 0.02, 0.78, 0.72, 0.44, 0.72, 0.39, 0.15, 0.18, 0.18, 0.32, 0.22, 0.69, 0.1, 0.74, 0.91, 0.03, 0.92, 0.32, 0.67, 0.79, 0.13, 0.62, 0.35, 0.73, 0.85, 0.16, 0.41, 0.44]\n",
      "centroid 4  : [0.17, 0.36, 0.77, 0.26, 0.97, 0.96, 0.35, 0.35, 0.66, 0.17, 0.58, 0.28, 0.17, 0.53, 0.26, 0.24, 0.63, 0.21, 0.67, 0.68, 0.65, 0.67, 0.31, 0.17, 0.37, 0.0, 0.01, 0.6, 0.76, 0.98]\n",
      "centroid 5  : [0.7, 0.94, 0.99, 0.91, 0.68, 0.99, 0.08, 0.58, 0.09, 0.1, 0.18, 0.36, 0.88, 0.22, 0.37, 0.42, 0.55, 0.44, 0.84, 0.81, 0.92, 0.53, 0.93, 0.71, 0.75, 0.46, 0.57, 0.39, 0.36, 0.89]\n",
      "centroid 6  : [0.11, 0.45, 0.12, 0.78, 0.79, 0.48, 0.46, 0.19, 0.82, 0.37, 0.75, 0.4, 0.52, 0.03, 0.53, 0.08, 0.62, 0.92, 0.01, 0.49, 0.31, 0.83, 0.86, 0.17, 0.33, 0.24, 0.03, 0.29, 0.93, 0.02]\n",
      "centroid 7  : [0.99, 0.67, 0.45, 0.62, 0.31, 0.32, 0.13, 0.81, 0.95, 0.77, 0.56, 0.61, 0.87, 0.32, 0.64, 0.18, 0.98, 0.04, 0.8, 0.02, 0.55, 0.99, 0.14, 0.66, 0.99, 0.54, 0.45, 0.26, 0.33, 0.1]\n",
      "------------Generation: 3 -----------------\n",
      "iBest Fitness: 0.428950535192294\n",
      "all index: [0, 4, 0, 4, 0, 6, 6, 3, 6, 6, 6, 0, 6, 2, 6, 6, 6, 6, 6, 3, 6, 6, 0, 0, 6, 4, 4, 6, 0, 6, 0, 6, 4, 6, 4, 6, 6, 3, 6, 7, 4, 7, 0, 0, 6, 6, 2, 3, 6, 4, 3, 2, 0, 6, 4, 6, 6, 6, 4, 6, 3, 4, 6, 6, 3, 6, 7, 4, 3, 6, 4, 6, 4, 4, 6, 3, 6, 0, 6]\n",
      "Clusters centroid:\n",
      "centroid 0  : [0.62, 0.53, 0.97, 0.03, 0.68, 0.15, 0.16, 0.64, 0.05, 0.86, 0.24, 0.2, 0.03, 0.24, 0.23, 0.15, 0.06, 0.55, 0.44, 0.03, 0.91, 0.75, 0.22, 0.57, 0.97, 0.69, 0.28, 0.93, 0.37, 0.29]\n",
      "centroid 1  : [1.0, 0.79, 0.52, 0.4, 0.56, 0.59, 0.86, 0.63, 0.11, 0.72, 0.28, 0.96, 0.05, 0.8, 0.19, 0.64, 0.63, 0.83, 0.97, 0.85, 0.05, 0.68, 0.97, 0.92, 0.45, 0.17, 0.86, 0.95, 0.17, 0.14]\n",
      "centroid 2  : [0.98, 0.24, 0.12, 0.25, 1.0, 0.18, 0.05, 0.89, 0.7, 0.05, 0.14, 0.01, 0.66, 0.93, 0.03, 0.01, 0.18, 0.04, 0.05, 0.17, 0.95, 0.45, 0.27, 0.48, 0.84, 0.9, 0.79, 0.56, 0.61, 0.22]\n",
      "centroid 3  : [0.76, 0.41, 0.02, 0.78, 0.72, 0.44, 0.72, 0.39, 0.15, 0.18, 0.18, 0.32, 0.22, 0.69, 0.1, 0.74, 0.91, 0.03, 0.92, 0.32, 0.67, 0.79, 0.13, 0.62, 0.35, 0.73, 0.85, 0.16, 0.41, 0.44]\n",
      "centroid 4  : [0.17, 0.36, 0.77, 0.26, 0.6, 0.96, 0.35, 0.35, 0.66, 0.17, 0.58, 0.28, 0.17, 0.53, 0.26, 0.24, 0.63, 0.21, 0.67, 0.68, 0.65, 0.67, 0.31, 0.17, 0.37, 0.0, 0.01, 0.96, 0.76, 0.98]\n",
      "centroid 5  : [0.7, 0.94, 0.99, 0.91, 0.68, 0.99, 0.08, 0.58, 0.09, 0.1, 0.18, 0.36, 0.88, 0.22, 0.37, 0.42, 0.55, 0.44, 0.84, 0.81, 0.92, 0.53, 0.93, 0.71, 0.75, 0.46, 0.57, 0.39, 0.36, 0.89]\n",
      "centroid 6  : [0.11, 0.45, 0.31, 0.78, 0.79, 0.48, 0.46, 0.5, 0.82, 0.37, 0.14, 0.4, 0.52, 0.03, 0.53, 0.08, 0.62, 0.92, 0.01, 0.49, 0.31, 0.83, 0.86, 0.17, 0.33, 0.24, 0.03, 0.29, 0.93, 0.02]\n",
      "centroid 7  : [0.26, 0.67, 0.45, 0.62, 0.31, 0.32, 0.13, 0.81, 0.95, 0.77, 0.56, 0.61, 0.87, 0.32, 0.64, 0.18, 0.98, 0.04, 0.8, 0.02, 0.55, 0.99, 0.14, 0.66, 0.99, 0.54, 0.45, 0.26, 0.33, 0.1]\n",
      "------------Generation: 4 -----------------\n",
      "iBest Fitness: 0.436375385672862\n",
      "all index: [6, 4, 3, 4, 6, 6, 6, 3, 3, 3, 3, 3, 6, 3, 3, 3, 6, 6, 6, 3, 6, 6, 3, 3, 3, 4, 4, 3, 0, 6, 3, 6, 4, 6, 3, 3, 6, 7, 3, 7, 3, 7, 4, 0, 6, 6, 2, 3, 6, 3, 3, 3, 0, 6, 4, 3, 6, 6, 4, 6, 6, 4, 6, 3, 3, 6, 7, 4, 3, 6, 4, 6, 3, 4, 6, 7, 3, 3, 3]\n",
      "Clusters centroid:\n",
      "centroid 0  : [0.62, 0.53, 0.97, 0.03, 0.68, 0.15, 0.16, 0.64, 0.05, 0.86, 0.24, 0.74, 0.03, 0.24, 0.23, 0.15, 0.06, 0.55, 0.44, 0.03, 0.91, 0.75, 0.22, 0.57, 0.97, 0.69, 0.28, 0.93, 0.37, 0.29]\n",
      "centroid 1  : [1.0, 0.79, 0.52, 0.4, 0.56, 0.59, 0.86, 0.63, 0.11, 0.72, 0.28, 0.96, 0.05, 0.8, 0.19, 0.64, 0.63, 0.83, 0.97, 0.85, 0.05, 0.68, 0.97, 0.92, 0.45, 0.17, 0.86, 0.95, 0.17, 0.14]\n",
      "centroid 2  : [0.98, 0.24, 0.12, 0.25, 1.0, 0.18, 0.05, 0.89, 0.7, 0.05, 0.14, 0.01, 0.66, 0.93, 0.03, 0.01, 0.18, 0.04, 0.05, 0.17, 0.95, 0.45, 0.27, 0.48, 0.84, 0.9, 0.79, 0.56, 0.61, 0.22]\n",
      "centroid 3  : [0.76, 0.41, 0.02, 0.78, 0.72, 0.44, 0.72, 0.39, 0.15, 0.18, 0.18, 0.32, 0.22, 0.69, 0.1, 0.74, 0.05, 0.03, 0.92, 0.32, 0.67, 0.1, 0.13, 0.62, 0.35, 0.73, 0.85, 0.16, 0.41, 0.44]\n",
      "centroid 4  : [0.17, 0.36, 0.77, 0.26, 0.6, 0.96, 0.35, 0.35, 0.66, 0.17, 0.58, 0.28, 0.17, 0.53, 0.26, 0.24, 0.63, 0.21, 0.67, 0.68, 0.65, 0.67, 0.31, 0.17, 0.37, 0.0, 0.01, 0.96, 0.76, 0.98]\n",
      "centroid 5  : [0.28, 0.94, 0.99, 0.91, 0.68, 0.99, 0.08, 0.58, 0.09, 0.1, 0.18, 0.36, 0.88, 0.22, 0.37, 0.42, 0.55, 0.44, 0.13, 0.81, 0.92, 0.53, 0.48, 0.71, 0.75, 0.46, 0.57, 0.39, 0.36, 0.89]\n",
      "centroid 6  : [0.11, 0.45, 0.31, 0.78, 0.79, 0.48, 0.46, 0.5, 0.82, 0.37, 0.14, 0.4, 0.52, 0.03, 0.53, 0.08, 0.62, 0.92, 0.01, 0.49, 0.31, 0.83, 0.86, 0.17, 0.33, 0.24, 0.03, 0.29, 0.93, 0.02]\n",
      "centroid 7  : [0.38, 0.67, 0.45, 0.62, 0.31, 0.32, 0.13, 0.81, 0.95, 0.77, 0.56, 0.61, 0.87, 0.32, 0.64, 0.18, 0.98, 0.04, 0.8, 0.02, 0.55, 0.99, 0.14, 0.66, 0.99, 0.54, 0.45, 0.26, 0.33, 0.1]\n",
      "------------Generation: 5 -----------------\n"
     ]
    },
    {
     "name": "stdout",
     "output_type": "stream",
     "text": [
      "iBest Fitness: 0.4366428948207437\n",
      "all index: [0, 6, 0, 6, 0, 6, 6, 3, 6, 6, 3, 3, 6, 2, 3, 6, 6, 6, 6, 3, 6, 6, 3, 0, 3, 4, 3, 6, 0, 6, 6, 6, 0, 6, 4, 3, 6, 7, 6, 7, 4, 7, 0, 0, 6, 6, 2, 3, 6, 6, 3, 2, 0, 6, 6, 6, 6, 6, 3, 6, 3, 4, 6, 6, 3, 6, 7, 4, 3, 6, 4, 6, 3, 4, 6, 3, 6, 0, 6]\n",
      "Clusters centroid:\n",
      "centroid 0  : [0.62, 0.53, 0.97, 0.03, 0.68, 0.15, 0.16, 0.64, 0.05, 0.86, 0.24, 0.2, 0.03, 0.24, 0.23, 0.15, 0.06, 0.55, 0.44, 0.03, 0.91, 0.75, 0.22, 0.57, 0.97, 0.69, 0.28, 0.93, 0.37, 0.29]\n",
      "centroid 1  : [1.0, 0.79, 0.52, 0.4, 0.56, 0.59, 0.86, 0.63, 0.11, 0.72, 0.28, 0.96, 0.05, 0.8, 0.19, 0.64, 0.63, 0.83, 0.97, 0.85, 0.05, 0.68, 0.97, 0.92, 0.45, 0.17, 0.86, 0.95, 0.17, 0.14]\n",
      "centroid 2  : [0.98, 0.24, 0.12, 0.25, 1.0, 0.18, 0.05, 0.89, 0.7, 0.05, 0.14, 0.01, 0.66, 0.93, 0.03, 0.01, 0.18, 0.04, 0.05, 0.17, 0.95, 0.45, 0.27, 0.48, 0.84, 0.78, 0.79, 0.56, 0.61, 0.22]\n",
      "centroid 3  : [0.76, 0.41, 0.02, 0.78, 0.72, 0.44, 0.72, 0.39, 0.15, 0.18, 0.18, 0.32, 0.22, 0.69, 0.1, 0.74, 0.91, 0.03, 0.92, 0.32, 0.67, 0.79, 0.13, 0.62, 0.35, 0.16, 0.85, 0.16, 0.41, 0.44]\n",
      "centroid 4  : [0.17, 0.36, 0.77, 0.26, 0.6, 0.96, 0.35, 0.35, 0.66, 0.17, 0.58, 0.28, 0.17, 0.95, 0.26, 0.24, 0.63, 0.21, 0.67, 0.68, 0.65, 0.67, 0.31, 0.17, 0.37, 0.0, 0.01, 0.96, 0.76, 0.98]\n",
      "centroid 5  : [0.7, 0.94, 0.99, 0.91, 0.68, 0.99, 0.08, 0.58, 0.09, 0.1, 0.18, 0.36, 0.88, 0.22, 0.37, 0.42, 0.55, 0.44, 0.84, 0.81, 0.92, 0.53, 0.93, 0.71, 0.75, 0.46, 0.57, 0.39, 0.36, 0.89]\n",
      "centroid 6  : [0.11, 0.27, 0.31, 0.78, 0.79, 0.48, 0.46, 0.5, 0.82, 0.37, 0.14, 0.4, 0.52, 0.03, 0.53, 0.08, 0.62, 0.95, 0.01, 0.49, 0.31, 0.83, 0.86, 0.17, 0.33, 0.24, 0.03, 0.29, 0.93, 0.02]\n",
      "centroid 7  : [0.26, 0.67, 0.45, 0.62, 0.31, 0.32, 0.13, 0.81, 0.95, 0.77, 0.56, 0.61, 0.87, 0.32, 0.64, 0.18, 0.98, 0.04, 0.8, 0.02, 0.55, 0.99, 0.14, 0.66, 0.99, 0.54, 0.45, 0.26, 0.33, 0.1]\n",
      "------------Generation: 6 -----------------\n",
      "iBest Fitness: 0.4517971044299469\n",
      "all index: [6, 6, 0, 6, 6, 6, 6, 6, 6, 6, 6, 6, 6, 6, 6, 6, 6, 6, 6, 3, 6, 6, 6, 6, 3, 6, 3, 6, 6, 6, 6, 6, 6, 6, 3, 6, 6, 3, 6, 6, 3, 7, 6, 0, 6, 6, 2, 3, 6, 6, 6, 2, 6, 6, 6, 6, 6, 6, 6, 6, 3, 6, 6, 6, 6, 6, 7, 6, 3, 6, 6, 6, 3, 3, 6, 3, 3, 0, 6]\n",
      "Clusters centroid:\n",
      "centroid 0  : [0.62, 0.53, 0.97, 0.03, 0.68, 0.15, 0.79, 0.64, 0.05, 0.86, 0.24, 0.2, 0.03, 0.4, 0.23, 0.15, 0.06, 0.55, 0.44, 0.03, 0.91, 0.75, 0.22, 0.57, 0.97, 0.69, 0.28, 0.93, 0.37, 0.29]\n",
      "centroid 1  : [0.11, 0.79, 0.52, 0.4, 0.56, 0.59, 0.86, 0.78, 0.11, 0.72, 0.28, 0.96, 0.05, 0.8, 0.19, 0.64, 0.63, 0.83, 0.97, 0.85, 0.05, 0.68, 0.97, 0.13, 0.45, 0.54, 0.86, 0.95, 0.17, 0.14]\n",
      "centroid 2  : [0.98, 0.24, 0.12, 0.25, 1.0, 0.18, 0.05, 0.89, 0.7, 0.05, 0.14, 0.01, 0.66, 0.93, 0.03, 0.01, 0.28, 0.04, 0.05, 0.46, 0.85, 0.45, 0.09, 0.48, 0.84, 0.9, 0.1, 0.56, 0.61, 0.22]\n",
      "centroid 3  : [0.08, 0.41, 0.02, 0.78, 0.72, 0.44, 0.72, 0.39, 0.15, 0.18, 0.18, 0.32, 0.22, 0.69, 0.1, 0.74, 0.91, 0.03, 0.92, 0.32, 0.67, 0.79, 0.13, 0.62, 0.0, 0.73, 0.85, 0.16, 0.41, 0.44]\n",
      "centroid 4  : [1.0, 0.36, 0.77, 0.75, 0.97, 0.96, 0.35, 0.35, 0.66, 0.17, 0.58, 0.28, 0.78, 0.53, 0.26, 0.24, 0.63, 0.21, 0.67, 0.68, 0.66, 0.67, 0.31, 0.74, 0.77, 0.0, 0.01, 0.6, 0.76, 0.98]\n",
      "centroid 5  : [0.7, 0.94, 0.99, 0.91, 0.68, 0.99, 0.35, 0.58, 0.09, 0.1, 0.18, 0.36, 0.88, 0.22, 0.37, 0.42, 0.55, 0.44, 0.84, 0.56, 0.92, 0.53, 0.93, 0.71, 0.75, 0.46, 0.57, 0.39, 0.36, 0.43]\n",
      "centroid 6  : [0.11, 0.45, 0.12, 0.78, 0.79, 0.48, 0.46, 0.19, 0.66, 0.37, 0.18, 0.4, 0.52, 0.03, 0.53, 0.08, 0.62, 0.92, 0.01, 0.49, 0.31, 0.83, 0.47, 0.13, 0.33, 0.24, 0.03, 0.29, 0.93, 0.02]\n",
      "centroid 7  : [0.99, 0.67, 0.45, 0.62, 0.31, 0.32, 0.13, 0.81, 0.95, 0.77, 0.17, 0.61, 0.87, 0.32, 0.64, 0.18, 0.98, 0.04, 0.8, 0.02, 0.92, 0.99, 0.14, 0.66, 0.99, 0.54, 0.45, 0.26, 0.33, 0.1]\n",
      "------------Generation: 7 -----------------\n",
      "iBest Fitness: 0.45848980848420556\n",
      "all index: [6, 6, 3, 6, 6, 6, 6, 6, 6, 6, 6, 6, 6, 6, 6, 6, 6, 6, 6, 3, 6, 6, 6, 6, 3, 6, 3, 6, 6, 6, 6, 6, 6, 6, 3, 6, 6, 3, 6, 6, 3, 7, 6, 6, 6, 6, 2, 3, 6, 6, 6, 2, 6, 6, 6, 6, 6, 6, 6, 6, 3, 6, 6, 6, 2, 6, 7, 6, 3, 6, 6, 6, 3, 3, 6, 3, 3, 3, 6]\n",
      "Clusters centroid:\n",
      "centroid 0  : [0.62, 0.53, 0.97, 0.71, 0.68, 0.15, 0.79, 0.64, 0.05, 0.86, 0.24, 0.2, 0.03, 0.4, 0.23, 0.15, 0.06, 0.55, 0.44, 0.03, 0.91, 0.75, 0.99, 0.57, 0.97, 0.69, 0.28, 0.93, 0.37, 0.29]\n",
      "centroid 1  : [0.11, 0.79, 0.52, 0.4, 0.56, 0.59, 0.86, 0.78, 0.11, 0.72, 0.28, 0.96, 0.05, 0.8, 0.19, 0.64, 0.63, 0.83, 0.97, 0.85, 0.05, 0.68, 0.97, 0.13, 0.45, 0.54, 0.86, 0.95, 0.17, 0.14]\n",
      "centroid 2  : [0.98, 0.24, 0.12, 0.25, 1.0, 0.18, 0.05, 0.89, 0.7, 0.05, 0.14, 0.01, 0.66, 0.93, 0.03, 0.38, 0.28, 0.04, 0.05, 0.46, 0.85, 0.52, 0.09, 0.48, 0.84, 0.9, 0.1, 0.56, 0.61, 0.22]\n",
      "centroid 3  : [0.08, 0.41, 0.02, 0.78, 0.72, 0.44, 0.72, 0.39, 0.15, 0.18, 0.18, 0.32, 0.22, 0.69, 0.1, 0.74, 0.91, 0.03, 0.92, 0.32, 0.67, 0.79, 0.13, 0.62, 0.0, 0.73, 0.85, 0.16, 0.41, 0.44]\n",
      "centroid 4  : [1.0, 0.36, 0.77, 0.75, 0.97, 0.96, 0.77, 0.35, 0.66, 0.17, 0.58, 0.28, 0.78, 0.53, 0.26, 0.24, 0.63, 0.21, 0.67, 0.68, 0.66, 0.67, 0.31, 0.74, 0.77, 0.0, 0.01, 0.6, 0.76, 0.98]\n",
      "centroid 5  : [0.7, 0.94, 0.99, 0.91, 0.68, 0.99, 0.35, 0.58, 0.09, 0.1, 0.18, 0.36, 0.88, 0.22, 0.37, 0.42, 0.55, 0.44, 0.84, 0.56, 0.92, 0.53, 0.93, 0.71, 0.75, 0.46, 0.57, 0.39, 0.36, 0.43]\n",
      "centroid 6  : [0.11, 0.45, 0.12, 0.78, 0.79, 0.48, 0.46, 0.19, 0.66, 0.37, 0.18, 0.4, 0.52, 0.03, 0.53, 0.08, 0.62, 0.92, 0.01, 0.49, 0.31, 0.83, 0.47, 0.13, 0.33, 0.24, 0.03, 0.29, 0.93, 0.02]\n",
      "centroid 7  : [0.99, 0.67, 0.45, 0.62, 0.31, 0.32, 0.57, 0.81, 0.95, 0.77, 0.17, 0.61, 0.87, 0.32, 0.64, 0.18, 0.98, 0.04, 0.8, 0.02, 0.92, 0.99, 0.14, 0.66, 0.99, 0.54, 0.45, 0.26, 0.33, 0.1]\n",
      "------------Generation: 8 -----------------\n",
      "iBest Fitness: 0.45848980848420556\n",
      "all index: [6, 6, 3, 6, 6, 6, 6, 6, 6, 6, 6, 6, 6, 6, 6, 6, 6, 6, 6, 3, 6, 6, 6, 6, 3, 6, 3, 6, 6, 6, 6, 6, 6, 6, 3, 6, 6, 3, 6, 6, 3, 7, 6, 6, 6, 6, 2, 3, 6, 6, 6, 2, 6, 6, 6, 6, 6, 6, 6, 6, 3, 6, 6, 6, 2, 6, 7, 6, 3, 6, 6, 6, 3, 3, 6, 3, 3, 3, 6]\n",
      "Clusters centroid:\n",
      "centroid 0  : [0.62, 0.53, 0.97, 0.71, 0.68, 0.15, 0.79, 0.64, 0.05, 0.86, 0.24, 0.2, 0.03, 0.4, 0.23, 0.15, 0.06, 0.55, 0.44, 0.03, 0.91, 0.75, 0.99, 0.57, 0.97, 0.69, 0.28, 0.93, 0.37, 0.29]\n",
      "centroid 1  : [0.11, 0.79, 0.52, 0.4, 0.56, 0.59, 0.86, 0.78, 0.11, 0.72, 0.28, 0.96, 0.05, 0.8, 0.19, 0.64, 0.63, 0.83, 0.97, 0.85, 0.05, 0.68, 0.97, 0.13, 0.45, 0.54, 0.86, 0.95, 0.17, 0.14]\n",
      "centroid 2  : [0.98, 0.24, 0.12, 0.25, 1.0, 0.18, 0.05, 0.89, 0.7, 0.05, 0.14, 0.01, 0.66, 0.93, 0.03, 0.38, 0.28, 0.04, 0.05, 0.46, 0.85, 0.52, 0.09, 0.48, 0.84, 0.9, 0.1, 0.56, 0.61, 0.22]\n",
      "centroid 3  : [0.08, 0.41, 0.02, 0.78, 0.72, 0.44, 0.72, 0.39, 0.15, 0.18, 0.18, 0.32, 0.22, 0.69, 0.1, 0.74, 0.91, 0.03, 0.92, 0.32, 0.67, 0.79, 0.13, 0.62, 0.0, 0.73, 0.85, 0.16, 0.41, 0.44]\n",
      "centroid 4  : [1.0, 0.36, 0.77, 0.75, 0.97, 0.96, 0.77, 0.35, 0.66, 0.17, 0.58, 0.28, 0.78, 0.53, 0.26, 0.24, 0.63, 0.21, 0.67, 0.68, 0.66, 0.67, 0.31, 0.74, 0.77, 0.0, 0.01, 0.6, 0.76, 0.98]\n",
      "centroid 5  : [0.7, 0.94, 0.99, 0.91, 0.68, 0.99, 0.35, 0.58, 0.09, 0.1, 0.18, 0.36, 0.88, 0.22, 0.37, 0.42, 0.55, 0.44, 0.84, 0.56, 0.92, 0.53, 0.93, 0.71, 0.75, 0.46, 0.57, 0.39, 0.36, 0.43]\n",
      "centroid 6  : [0.11, 0.45, 0.12, 0.78, 0.79, 0.48, 0.46, 0.19, 0.66, 0.37, 0.18, 0.4, 0.52, 0.03, 0.53, 0.08, 0.62, 0.92, 0.01, 0.49, 0.31, 0.83, 0.47, 0.13, 0.33, 0.24, 0.03, 0.29, 0.93, 0.02]\n",
      "centroid 7  : [0.99, 0.67, 0.45, 0.62, 0.31, 0.32, 0.57, 0.81, 0.95, 0.77, 0.17, 0.61, 0.87, 0.32, 0.64, 0.18, 0.98, 0.04, 0.8, 0.02, 0.92, 0.99, 0.14, 0.66, 0.99, 0.54, 0.45, 0.26, 0.33, 0.1]\n",
      "------------Generation: 9 -----------------\n",
      "iBest Fitness: 0.46733779770933737\n",
      "all index: [6, 6, 3, 6, 6, 6, 6, 6, 6, 6, 6, 6, 6, 6, 6, 6, 6, 6, 6, 3, 6, 6, 6, 6, 3, 6, 3, 6, 6, 6, 6, 6, 6, 6, 3, 6, 6, 3, 6, 6, 2, 7, 6, 6, 6, 6, 6, 3, 6, 6, 6, 2, 6, 6, 6, 6, 6, 6, 6, 6, 3, 6, 6, 2, 6, 6, 7, 6, 3, 6, 6, 6, 3, 3, 6, 3, 3, 3, 6]\n",
      "Clusters centroid:\n",
      "centroid 0  : [0.62, 0.53, 0.97, 0.71, 0.68, 0.15, 0.64, 0.95, 0.05, 0.86, 0.24, 0.2, 0.03, 0.4, 0.23, 0.15, 0.06, 0.55, 0.44, 0.03, 0.91, 0.75, 0.99, 0.57, 0.97, 0.69, 0.28, 0.93, 0.37, 0.29]\n",
      "centroid 1  : [0.11, 0.79, 0.52, 0.4, 0.56, 0.59, 0.86, 0.78, 0.11, 0.72, 0.28, 0.96, 0.05, 0.8, 0.19, 0.64, 0.63, 0.83, 0.97, 0.85, 0.05, 0.68, 0.97, 0.13, 0.45, 0.54, 0.86, 0.95, 0.17, 0.14]\n",
      "centroid 2  : [0.98, 0.24, 0.12, 0.25, 1.0, 0.18, 0.05, 0.89, 0.7, 0.05, 0.14, 0.01, 0.66, 0.93, 0.03, 0.38, 0.28, 0.04, 0.05, 0.46, 0.85, 0.52, 0.88, 0.48, 0.03, 0.9, 0.1, 0.56, 0.61, 0.22]\n",
      "centroid 3  : [0.08, 0.41, 0.02, 0.78, 0.72, 0.44, 0.72, 0.39, 0.15, 0.18, 0.18, 0.32, 0.22, 0.69, 0.1, 0.74, 0.91, 0.03, 0.92, 0.32, 0.67, 0.79, 0.13, 0.62, 0.0, 0.73, 0.85, 0.16, 0.41, 0.44]\n",
      "centroid 4  : [1.0, 0.36, 0.77, 0.75, 0.97, 0.96, 0.77, 0.35, 0.66, 0.17, 0.58, 0.28, 0.78, 0.53, 0.26, 0.24, 0.63, 0.21, 0.67, 0.68, 0.66, 0.67, 0.31, 0.74, 0.77, 0.0, 0.01, 0.6, 0.76, 0.98]\n",
      "centroid 5  : [0.7, 0.94, 0.99, 0.91, 0.68, 0.99, 0.35, 0.58, 0.09, 0.1, 0.18, 0.36, 0.88, 0.22, 0.37, 0.42, 0.55, 0.44, 0.84, 0.56, 0.92, 0.53, 0.93, 0.71, 0.75, 0.46, 0.57, 0.39, 0.36, 0.43]\n",
      "centroid 6  : [0.11, 0.45, 0.12, 0.78, 0.79, 0.48, 0.46, 0.19, 0.66, 0.37, 0.18, 0.4, 0.52, 0.03, 0.53, 0.08, 0.62, 0.92, 0.01, 0.49, 0.31, 0.83, 0.47, 0.13, 0.33, 0.24, 0.03, 0.29, 0.93, 0.02]\n",
      "centroid 7  : [0.99, 0.67, 0.45, 0.62, 0.31, 0.32, 0.57, 0.81, 0.95, 0.77, 0.17, 0.61, 0.87, 0.21, 0.64, 0.18, 0.98, 0.04, 0.8, 0.02, 0.92, 0.99, 0.14, 0.66, 0.99, 0.54, 0.45, 0.26, 0.33, 0.1]\n",
      "------------Generation: 10 -----------------\n"
     ]
    },
    {
     "name": "stdout",
     "output_type": "stream",
     "text": [
      "iBest Fitness: 0.46733779770933737\n",
      "all index: [6, 6, 3, 6, 6, 6, 6, 6, 6, 6, 6, 6, 6, 6, 6, 6, 6, 6, 6, 3, 6, 6, 6, 6, 3, 6, 3, 6, 6, 6, 6, 6, 6, 6, 3, 6, 6, 3, 6, 6, 2, 7, 6, 6, 6, 6, 6, 3, 6, 6, 6, 2, 6, 6, 6, 6, 6, 6, 6, 6, 3, 6, 6, 2, 6, 6, 7, 6, 3, 6, 6, 6, 3, 3, 6, 3, 3, 3, 6]\n",
      "Clusters centroid:\n",
      "centroid 0  : [0.62, 0.53, 0.97, 0.71, 0.68, 0.15, 0.64, 0.95, 0.05, 0.86, 0.24, 0.2, 0.03, 0.4, 0.23, 0.15, 0.06, 0.55, 0.44, 0.03, 0.91, 0.75, 0.99, 0.57, 0.97, 0.69, 0.28, 0.93, 0.37, 0.29]\n",
      "centroid 1  : [0.11, 0.79, 0.52, 0.4, 0.56, 0.59, 0.86, 0.78, 0.11, 0.72, 0.28, 0.96, 0.05, 0.8, 0.19, 0.64, 0.63, 0.83, 0.97, 0.85, 0.05, 0.68, 0.97, 0.13, 0.45, 0.54, 0.86, 0.95, 0.17, 0.14]\n",
      "centroid 2  : [0.98, 0.24, 0.12, 0.25, 1.0, 0.18, 0.05, 0.89, 0.7, 0.05, 0.14, 0.01, 0.66, 0.93, 0.03, 0.38, 0.28, 0.04, 0.05, 0.46, 0.85, 0.52, 0.88, 0.48, 0.03, 0.9, 0.1, 0.56, 0.61, 0.22]\n",
      "centroid 3  : [0.08, 0.41, 0.02, 0.78, 0.72, 0.44, 0.72, 0.39, 0.15, 0.18, 0.18, 0.32, 0.22, 0.69, 0.1, 0.74, 0.91, 0.03, 0.92, 0.32, 0.67, 0.79, 0.13, 0.62, 0.0, 0.73, 0.85, 0.16, 0.41, 0.44]\n",
      "centroid 4  : [1.0, 0.36, 0.77, 0.75, 0.97, 0.96, 0.77, 0.35, 0.66, 0.17, 0.58, 0.28, 0.78, 0.53, 0.26, 0.24, 0.63, 0.21, 0.67, 0.68, 0.66, 0.67, 0.31, 0.74, 0.77, 0.0, 0.01, 0.6, 0.76, 0.98]\n",
      "centroid 5  : [0.7, 0.94, 0.99, 0.91, 0.68, 0.99, 0.35, 0.58, 0.09, 0.1, 0.18, 0.36, 0.88, 0.22, 0.37, 0.42, 0.55, 0.44, 0.84, 0.56, 0.92, 0.53, 0.93, 0.71, 0.75, 0.46, 0.57, 0.39, 0.36, 0.43]\n",
      "centroid 6  : [0.11, 0.45, 0.12, 0.78, 0.79, 0.48, 0.46, 0.19, 0.66, 0.37, 0.18, 0.4, 0.52, 0.03, 0.53, 0.08, 0.62, 0.92, 0.01, 0.49, 0.31, 0.83, 0.47, 0.13, 0.33, 0.24, 0.03, 0.29, 0.93, 0.02]\n",
      "centroid 7  : [0.99, 0.67, 0.45, 0.62, 0.31, 0.32, 0.57, 0.81, 0.95, 0.77, 0.17, 0.61, 0.87, 0.21, 0.64, 0.18, 0.98, 0.04, 0.8, 0.02, 0.92, 0.99, 0.14, 0.66, 0.99, 0.54, 0.45, 0.26, 0.33, 0.1]\n",
      "------------Generation: 11 -----------------\n",
      "iBest Fitness: 0.475059481233971\n",
      "all index: [6, 6, 6, 6, 6, 6, 6, 6, 6, 6, 6, 6, 6, 6, 6, 6, 6, 6, 6, 3, 6, 6, 6, 6, 6, 6, 6, 6, 6, 6, 6, 2, 6, 6, 6, 6, 6, 3, 6, 6, 2, 7, 6, 6, 6, 6, 6, 3, 6, 6, 6, 6, 6, 6, 6, 6, 6, 6, 6, 6, 3, 6, 6, 2, 6, 6, 7, 6, 3, 6, 6, 6, 3, 3, 6, 3, 6, 3, 6]\n",
      "Clusters centroid:\n",
      "centroid 0  : [0.62, 0.53, 0.97, 0.71, 0.68, 0.15, 0.64, 0.95, 0.05, 0.86, 0.24, 0.2, 0.03, 0.4, 0.23, 0.15, 0.06, 0.55, 0.44, 0.03, 0.91, 0.75, 0.99, 0.57, 0.97, 0.69, 0.28, 0.93, 0.37, 0.29]\n",
      "centroid 1  : [0.11, 0.79, 0.52, 0.4, 0.56, 0.59, 0.86, 0.78, 0.11, 0.72, 0.28, 0.96, 0.05, 0.8, 0.19, 0.64, 0.63, 0.83, 0.97, 0.85, 0.05, 0.68, 0.97, 0.13, 0.45, 0.54, 0.86, 0.95, 0.17, 0.14]\n",
      "centroid 2  : [0.98, 0.24, 0.12, 0.25, 1.0, 0.18, 0.05, 0.89, 0.7, 0.05, 0.14, 0.64, 0.66, 0.93, 0.03, 0.38, 0.28, 0.04, 0.05, 0.46, 0.85, 0.52, 0.88, 0.48, 0.03, 0.9, 0.1, 0.56, 0.61, 0.22]\n",
      "centroid 3  : [0.08, 0.41, 0.02, 0.78, 0.72, 0.44, 0.72, 0.39, 0.15, 0.18, 0.18, 0.8, 0.22, 0.69, 0.1, 0.74, 0.91, 0.03, 0.92, 0.32, 0.67, 0.79, 0.13, 0.62, 0.0, 0.73, 0.85, 0.16, 0.41, 0.44]\n",
      "centroid 4  : [1.0, 0.36, 0.77, 0.75, 0.97, 0.96, 0.77, 0.35, 0.66, 0.17, 0.58, 0.28, 0.09, 0.53, 0.26, 0.24, 0.63, 0.21, 0.67, 0.68, 0.66, 0.67, 0.31, 0.74, 0.06, 0.0, 0.01, 0.6, 0.76, 0.98]\n",
      "centroid 5  : [0.7, 0.94, 0.99, 0.91, 0.68, 0.99, 0.35, 0.58, 0.09, 0.1, 0.18, 0.36, 0.88, 0.22, 0.37, 0.42, 0.55, 0.44, 0.84, 0.56, 0.92, 0.53, 0.93, 0.71, 0.75, 0.46, 0.57, 0.39, 0.36, 0.43]\n",
      "centroid 6  : [0.11, 0.45, 0.12, 0.78, 0.79, 0.48, 0.46, 0.19, 0.66, 0.37, 0.18, 0.4, 0.52, 0.03, 0.53, 0.08, 0.62, 0.92, 0.01, 0.49, 0.31, 0.83, 0.47, 0.13, 0.33, 0.24, 0.03, 0.29, 0.93, 0.02]\n",
      "centroid 7  : [0.99, 0.67, 0.45, 0.62, 0.02, 0.32, 0.57, 0.81, 0.95, 0.77, 0.17, 0.61, 0.87, 0.21, 0.64, 0.18, 0.98, 0.04, 0.8, 0.02, 0.92, 0.99, 0.14, 0.66, 0.99, 0.54, 0.45, 0.26, 0.33, 0.1]\n",
      "------------Generation: 12 -----------------\n",
      "iBest Fitness: 0.48783981502652\n",
      "all index: [6, 6, 6, 6, 6, 6, 6, 6, 6, 6, 6, 6, 6, 6, 6, 6, 6, 6, 6, 6, 6, 6, 6, 6, 6, 6, 3, 6, 6, 6, 6, 6, 6, 6, 6, 6, 6, 3, 6, 6, 3, 6, 6, 6, 6, 6, 2, 3, 6, 6, 6, 6, 6, 6, 6, 6, 6, 6, 6, 6, 6, 6, 6, 6, 3, 6, 6, 6, 3, 6, 6, 6, 3, 3, 6, 3, 6, 3, 6]\n",
      "Clusters centroid:\n",
      "centroid 0  : [0.62, 0.53, 0.97, 0.71, 0.68, 0.15, 0.79, 0.64, 0.05, 0.86, 0.24, 0.2, 0.03, 0.12, 0.23, 0.15, 0.06, 0.55, 0.44, 0.03, 0.91, 0.75, 0.99, 0.57, 0.97, 0.69, 0.28, 0.93, 0.37, 0.29]\n",
      "centroid 1  : [0.11, 0.79, 0.52, 0.4, 0.56, 0.59, 0.86, 0.78, 0.11, 0.72, 0.28, 0.88, 0.05, 0.8, 0.19, 0.64, 0.63, 0.83, 0.97, 0.85, 0.05, 0.68, 0.97, 0.13, 0.45, 0.54, 0.86, 0.95, 0.17, 0.16]\n",
      "centroid 2  : [0.98, 0.67, 0.12, 0.51, 1.0, 0.18, 0.05, 0.89, 0.7, 0.05, 0.14, 0.01, 0.66, 0.93, 0.67, 0.38, 0.28, 0.04, 0.05, 0.46, 0.85, 0.52, 0.09, 0.98, 0.84, 0.9, 0.1, 0.56, 0.61, 0.22]\n",
      "centroid 3  : [0.08, 0.41, 0.02, 0.78, 0.72, 0.44, 0.72, 0.39, 0.15, 0.18, 0.18, 0.02, 0.22, 0.69, 0.1, 0.74, 0.91, 0.03, 0.92, 0.32, 0.67, 0.79, 0.13, 0.62, 0.0, 0.73, 0.85, 0.16, 0.41, 0.44]\n",
      "centroid 4  : [1.0, 0.36, 0.77, 0.75, 0.97, 0.96, 0.77, 0.35, 0.66, 0.17, 0.58, 0.28, 0.78, 0.53, 0.26, 0.24, 0.63, 0.21, 0.67, 0.68, 0.12, 0.67, 0.31, 0.74, 0.77, 0.0, 0.01, 0.6, 0.76, 0.98]\n",
      "centroid 5  : [0.7, 0.94, 0.99, 0.91, 0.09, 0.99, 0.35, 0.17, 0.09, 0.1, 0.18, 0.36, 0.88, 0.22, 0.37, 0.42, 0.55, 0.44, 0.84, 0.56, 0.92, 0.53, 0.12, 0.71, 0.82, 0.46, 0.57, 0.39, 0.36, 0.43]\n",
      "centroid 6  : [0.11, 0.45, 0.12, 0.78, 0.79, 0.48, 0.46, 0.19, 0.66, 0.37, 0.18, 0.4, 0.52, 0.03, 0.53, 0.08, 0.62, 0.92, 0.01, 0.49, 0.31, 0.83, 0.47, 0.13, 0.33, 0.24, 0.03, 0.29, 0.45, 0.02]\n",
      "centroid 7  : [0.99, 0.67, 0.45, 0.62, 0.31, 0.79, 0.57, 0.81, 0.95, 0.77, 0.17, 0.61, 0.55, 0.32, 0.84, 0.18, 0.98, 0.04, 0.8, 0.34, 0.92, 0.99, 0.14, 0.66, 0.99, 0.54, 0.45, 0.26, 0.33, 0.1]\n",
      "------------Generation: 13 -----------------\n",
      "iBest Fitness: 0.48783981502652\n",
      "all index: [6, 6, 6, 6, 6, 6, 6, 6, 6, 6, 6, 6, 6, 6, 6, 6, 6, 6, 6, 6, 6, 6, 6, 6, 6, 6, 3, 6, 6, 6, 6, 6, 6, 6, 6, 6, 6, 3, 6, 6, 3, 6, 6, 6, 6, 6, 2, 3, 6, 6, 6, 6, 6, 6, 6, 6, 6, 6, 6, 6, 6, 6, 6, 6, 3, 6, 6, 6, 3, 6, 6, 6, 3, 3, 6, 3, 6, 3, 6]\n",
      "Clusters centroid:\n",
      "centroid 0  : [0.62, 0.53, 0.97, 0.71, 0.68, 0.15, 0.79, 0.64, 0.05, 0.86, 0.24, 0.2, 0.03, 0.12, 0.23, 0.15, 0.06, 0.55, 0.44, 0.03, 0.91, 0.75, 0.99, 0.57, 0.97, 0.69, 0.28, 0.93, 0.37, 0.29]\n",
      "centroid 1  : [0.11, 0.79, 0.52, 0.4, 0.56, 0.59, 0.86, 0.78, 0.11, 0.72, 0.28, 0.88, 0.05, 0.8, 0.19, 0.64, 0.63, 0.83, 0.97, 0.85, 0.05, 0.68, 0.97, 0.13, 0.45, 0.54, 0.86, 0.95, 0.17, 0.16]\n",
      "centroid 2  : [0.98, 0.67, 0.12, 0.51, 1.0, 0.18, 0.05, 0.89, 0.7, 0.05, 0.14, 0.01, 0.66, 0.93, 0.67, 0.38, 0.28, 0.04, 0.05, 0.46, 0.85, 0.52, 0.09, 0.98, 0.84, 0.9, 0.1, 0.56, 0.61, 0.22]\n",
      "centroid 3  : [0.08, 0.41, 0.02, 0.78, 0.72, 0.44, 0.72, 0.39, 0.15, 0.18, 0.18, 0.02, 0.22, 0.69, 0.1, 0.74, 0.91, 0.03, 0.92, 0.32, 0.67, 0.79, 0.13, 0.62, 0.0, 0.73, 0.85, 0.16, 0.41, 0.44]\n",
      "centroid 4  : [1.0, 0.36, 0.77, 0.75, 0.97, 0.96, 0.77, 0.35, 0.66, 0.17, 0.58, 0.28, 0.78, 0.53, 0.26, 0.24, 0.63, 0.21, 0.67, 0.68, 0.12, 0.67, 0.31, 0.74, 0.77, 0.0, 0.01, 0.6, 0.76, 0.98]\n",
      "centroid 5  : [0.7, 0.94, 0.99, 0.91, 0.09, 0.99, 0.35, 0.17, 0.09, 0.1, 0.18, 0.36, 0.88, 0.22, 0.37, 0.42, 0.55, 0.44, 0.84, 0.56, 0.92, 0.53, 0.12, 0.71, 0.82, 0.46, 0.57, 0.39, 0.36, 0.43]\n",
      "centroid 6  : [0.11, 0.45, 0.12, 0.78, 0.79, 0.48, 0.46, 0.19, 0.66, 0.37, 0.18, 0.4, 0.52, 0.03, 0.53, 0.08, 0.62, 0.92, 0.01, 0.49, 0.31, 0.83, 0.47, 0.13, 0.33, 0.24, 0.03, 0.29, 0.45, 0.02]\n",
      "centroid 7  : [0.99, 0.67, 0.45, 0.62, 0.31, 0.79, 0.57, 0.81, 0.95, 0.77, 0.17, 0.61, 0.55, 0.32, 0.84, 0.18, 0.98, 0.04, 0.8, 0.34, 0.92, 0.99, 0.14, 0.66, 0.99, 0.54, 0.45, 0.26, 0.33, 0.1]\n",
      "------------Generation: 14 -----------------\n",
      "iBest Fitness: 0.48783981502652\n",
      "all index: [6, 6, 6, 6, 6, 6, 6, 6, 6, 6, 6, 6, 6, 6, 6, 6, 6, 6, 6, 6, 6, 6, 6, 6, 6, 6, 3, 6, 6, 6, 6, 6, 6, 6, 6, 6, 6, 3, 6, 6, 3, 6, 6, 6, 6, 6, 2, 3, 6, 6, 6, 6, 6, 6, 6, 6, 6, 6, 6, 6, 6, 6, 6, 6, 3, 6, 6, 6, 3, 6, 6, 6, 3, 3, 6, 3, 6, 3, 6]\n",
      "Clusters centroid:\n",
      "centroid 0  : [0.62, 0.53, 0.97, 0.71, 0.68, 0.15, 0.79, 0.64, 0.05, 0.86, 0.24, 0.2, 0.03, 0.12, 0.23, 0.15, 0.06, 0.55, 0.44, 0.03, 0.91, 0.75, 0.99, 0.57, 0.97, 0.69, 0.28, 0.93, 0.37, 0.29]\n",
      "centroid 1  : [0.11, 0.79, 0.52, 0.4, 0.56, 0.59, 0.86, 0.78, 0.11, 0.72, 0.28, 0.88, 0.05, 0.8, 0.19, 0.64, 0.63, 0.83, 0.97, 0.85, 0.05, 0.68, 0.97, 0.13, 0.45, 0.54, 0.86, 0.95, 0.17, 0.16]\n",
      "centroid 2  : [0.98, 0.67, 0.12, 0.51, 1.0, 0.18, 0.05, 0.89, 0.7, 0.05, 0.14, 0.01, 0.66, 0.93, 0.67, 0.38, 0.28, 0.04, 0.05, 0.46, 0.85, 0.52, 0.09, 0.98, 0.84, 0.9, 0.1, 0.56, 0.61, 0.22]\n",
      "centroid 3  : [0.08, 0.41, 0.02, 0.78, 0.72, 0.44, 0.72, 0.39, 0.15, 0.18, 0.18, 0.02, 0.22, 0.69, 0.1, 0.74, 0.91, 0.03, 0.92, 0.32, 0.67, 0.79, 0.13, 0.62, 0.0, 0.73, 0.85, 0.16, 0.41, 0.44]\n",
      "centroid 4  : [1.0, 0.36, 0.77, 0.75, 0.97, 0.96, 0.77, 0.35, 0.66, 0.17, 0.58, 0.28, 0.78, 0.53, 0.26, 0.24, 0.63, 0.21, 0.67, 0.68, 0.12, 0.67, 0.31, 0.74, 0.77, 0.0, 0.01, 0.6, 0.76, 0.98]\n",
      "centroid 5  : [0.7, 0.94, 0.99, 0.91, 0.09, 0.99, 0.35, 0.17, 0.09, 0.1, 0.18, 0.36, 0.88, 0.22, 0.37, 0.42, 0.55, 0.44, 0.84, 0.56, 0.92, 0.53, 0.12, 0.71, 0.82, 0.46, 0.57, 0.39, 0.36, 0.43]\n",
      "centroid 6  : [0.11, 0.45, 0.12, 0.78, 0.79, 0.48, 0.46, 0.19, 0.66, 0.37, 0.18, 0.4, 0.52, 0.03, 0.53, 0.08, 0.62, 0.92, 0.01, 0.49, 0.31, 0.83, 0.47, 0.13, 0.33, 0.24, 0.03, 0.29, 0.45, 0.02]\n",
      "centroid 7  : [0.99, 0.67, 0.45, 0.62, 0.31, 0.79, 0.57, 0.81, 0.95, 0.77, 0.17, 0.61, 0.55, 0.32, 0.84, 0.18, 0.98, 0.04, 0.8, 0.34, 0.92, 0.99, 0.14, 0.66, 0.99, 0.54, 0.45, 0.26, 0.33, 0.1]\n",
      "------------Generation: 15 -----------------\n"
     ]
    },
    {
     "name": "stdout",
     "output_type": "stream",
     "text": [
      "iBest Fitness: 0.4956984183656821\n",
      "all index: [6, 6, 6, 6, 6, 6, 6, 6, 6, 6, 6, 6, 6, 6, 6, 6, 6, 6, 6, 6, 6, 6, 6, 6, 6, 6, 6, 6, 6, 6, 6, 6, 6, 6, 6, 6, 6, 6, 3, 6, 6, 2, 6, 6, 6, 6, 2, 6, 6, 6, 6, 6, 6, 6, 6, 6, 6, 6, 6, 6, 6, 6, 6, 6, 6, 6, 6, 6, 3, 6, 6, 6, 3, 3, 6, 3, 3, 3, 6]\n",
      "Clusters centroid:\n",
      "centroid 0  : [0.62, 0.53, 0.97, 0.71, 0.68, 0.15, 0.79, 0.23, 0.05, 0.86, 0.24, 0.2, 0.03, 0.12, 0.23, 0.15, 0.06, 0.55, 0.44, 0.03, 0.91, 0.75, 0.99, 0.57, 0.97, 0.69, 0.28, 0.93, 0.37, 0.29]\n",
      "centroid 1  : [0.11, 0.79, 0.52, 0.4, 0.56, 0.59, 0.57, 0.78, 0.11, 0.72, 0.28, 0.88, 0.05, 0.8, 0.19, 0.64, 0.63, 0.83, 0.97, 0.85, 0.05, 0.68, 0.97, 0.13, 0.45, 0.54, 0.86, 0.95, 0.17, 0.16]\n",
      "centroid 2  : [0.98, 0.67, 0.12, 0.51, 0.37, 0.18, 0.05, 0.89, 0.7, 0.05, 0.14, 0.01, 0.66, 0.93, 0.67, 0.38, 0.84, 0.04, 0.05, 0.46, 0.85, 0.52, 0.09, 0.98, 0.84, 0.9, 0.1, 0.56, 0.61, 0.22]\n",
      "centroid 3  : [0.08, 0.41, 0.02, 0.78, 0.72, 0.44, 0.72, 0.39, 0.15, 0.18, 0.18, 0.02, 0.22, 0.69, 0.1, 0.74, 0.91, 0.03, 0.92, 0.32, 0.67, 0.79, 0.13, 0.62, 0.0, 0.73, 0.85, 0.16, 0.41, 0.98]\n",
      "centroid 4  : [1.0, 0.36, 0.77, 0.75, 0.97, 0.96, 0.77, 0.35, 0.66, 0.17, 0.58, 0.28, 0.29, 0.53, 0.26, 0.24, 0.63, 0.21, 0.67, 0.68, 0.12, 0.67, 0.31, 0.74, 0.77, 0.0, 0.01, 0.6, 0.76, 0.98]\n",
      "centroid 5  : [0.7, 0.94, 0.99, 0.64, 0.09, 0.99, 0.35, 0.17, 0.09, 0.1, 0.18, 0.36, 0.88, 0.22, 0.37, 0.42, 0.55, 0.44, 0.84, 0.56, 0.92, 0.53, 0.12, 0.71, 0.82, 0.46, 0.57, 0.39, 0.36, 0.43]\n",
      "centroid 6  : [0.11, 0.45, 0.12, 0.78, 0.79, 0.48, 0.46, 0.19, 0.66, 0.37, 0.18, 0.4, 0.52, 0.03, 0.53, 0.08, 0.62, 0.92, 0.01, 0.49, 0.31, 0.83, 0.47, 0.13, 0.33, 0.46, 0.03, 0.29, 0.45, 0.02]\n",
      "centroid 7  : [0.99, 0.67, 0.45, 0.62, 0.87, 0.57, 0.57, 0.81, 0.95, 0.77, 0.17, 0.61, 0.55, 0.32, 0.84, 0.18, 0.98, 0.26, 0.8, 0.34, 0.78, 0.99, 0.14, 0.66, 0.99, 0.54, 0.45, 0.26, 0.33, 0.1]\n",
      "------------Generation: 16 -----------------\n",
      "iBest Fitness: 0.4956984183656821\n",
      "all index: [6, 6, 6, 6, 6, 6, 6, 6, 6, 6, 6, 6, 6, 6, 6, 6, 6, 6, 6, 6, 6, 6, 6, 6, 6, 6, 6, 6, 6, 6, 6, 6, 6, 6, 6, 6, 6, 6, 3, 6, 6, 2, 6, 6, 6, 6, 2, 6, 6, 6, 6, 6, 6, 6, 6, 6, 6, 6, 6, 6, 6, 6, 6, 6, 6, 6, 6, 6, 3, 6, 6, 6, 3, 3, 6, 3, 3, 3, 6]\n",
      "Clusters centroid:\n",
      "centroid 0  : [0.62, 0.53, 0.97, 0.71, 0.68, 0.15, 0.79, 0.23, 0.05, 0.86, 0.24, 0.2, 0.03, 0.12, 0.23, 0.15, 0.06, 0.55, 0.44, 0.03, 0.91, 0.75, 0.99, 0.57, 0.97, 0.69, 0.28, 0.93, 0.37, 0.29]\n",
      "centroid 1  : [0.11, 0.79, 0.52, 0.4, 0.56, 0.59, 0.57, 0.78, 0.11, 0.72, 0.28, 0.88, 0.05, 0.8, 0.19, 0.64, 0.63, 0.83, 0.97, 0.85, 0.05, 0.68, 0.97, 0.13, 0.45, 0.54, 0.86, 0.95, 0.17, 0.16]\n",
      "centroid 2  : [0.98, 0.67, 0.12, 0.51, 0.37, 0.18, 0.05, 0.89, 0.7, 0.05, 0.14, 0.01, 0.66, 0.93, 0.67, 0.38, 0.84, 0.04, 0.05, 0.46, 0.85, 0.52, 0.09, 0.98, 0.84, 0.9, 0.1, 0.56, 0.61, 0.22]\n",
      "centroid 3  : [0.08, 0.41, 0.02, 0.78, 0.72, 0.44, 0.72, 0.39, 0.15, 0.18, 0.18, 0.02, 0.22, 0.69, 0.1, 0.74, 0.91, 0.03, 0.92, 0.32, 0.67, 0.79, 0.13, 0.62, 0.0, 0.73, 0.85, 0.16, 0.41, 0.98]\n",
      "centroid 4  : [1.0, 0.36, 0.77, 0.75, 0.97, 0.96, 0.77, 0.35, 0.66, 0.17, 0.58, 0.28, 0.29, 0.53, 0.26, 0.24, 0.63, 0.21, 0.67, 0.68, 0.12, 0.67, 0.31, 0.74, 0.77, 0.0, 0.01, 0.6, 0.76, 0.98]\n",
      "centroid 5  : [0.7, 0.94, 0.99, 0.64, 0.09, 0.99, 0.35, 0.17, 0.09, 0.1, 0.18, 0.36, 0.88, 0.22, 0.37, 0.42, 0.55, 0.44, 0.84, 0.56, 0.92, 0.53, 0.12, 0.71, 0.82, 0.46, 0.57, 0.39, 0.36, 0.43]\n",
      "centroid 6  : [0.11, 0.45, 0.12, 0.78, 0.79, 0.48, 0.46, 0.19, 0.66, 0.37, 0.18, 0.4, 0.52, 0.03, 0.53, 0.08, 0.62, 0.92, 0.01, 0.49, 0.31, 0.83, 0.47, 0.13, 0.33, 0.46, 0.03, 0.29, 0.45, 0.02]\n",
      "centroid 7  : [0.99, 0.67, 0.45, 0.62, 0.87, 0.57, 0.57, 0.81, 0.95, 0.77, 0.17, 0.61, 0.55, 0.32, 0.84, 0.18, 0.98, 0.26, 0.8, 0.34, 0.78, 0.99, 0.14, 0.66, 0.99, 0.54, 0.45, 0.26, 0.33, 0.1]\n",
      "------------Generation: 17 -----------------\n",
      "iBest Fitness: 0.4956984183656821\n",
      "all index: [6, 6, 6, 6, 6, 6, 6, 6, 6, 6, 6, 6, 6, 6, 6, 6, 6, 6, 6, 6, 6, 6, 6, 6, 6, 6, 6, 6, 6, 6, 6, 6, 6, 6, 6, 6, 6, 6, 3, 6, 6, 2, 6, 6, 6, 6, 2, 6, 6, 6, 6, 6, 6, 6, 6, 6, 6, 6, 6, 6, 6, 6, 6, 6, 6, 6, 6, 6, 3, 6, 6, 6, 3, 3, 6, 3, 3, 3, 6]\n",
      "Clusters centroid:\n",
      "centroid 0  : [0.62, 0.53, 0.97, 0.71, 0.68, 0.15, 0.79, 0.23, 0.05, 0.86, 0.24, 0.2, 0.03, 0.12, 0.23, 0.15, 0.06, 0.55, 0.44, 0.03, 0.91, 0.75, 0.99, 0.57, 0.97, 0.69, 0.28, 0.93, 0.37, 0.29]\n",
      "centroid 1  : [0.11, 0.79, 0.52, 0.4, 0.56, 0.59, 0.57, 0.78, 0.11, 0.72, 0.28, 0.88, 0.05, 0.8, 0.19, 0.64, 0.63, 0.83, 0.97, 0.85, 0.05, 0.68, 0.97, 0.13, 0.45, 0.54, 0.86, 0.95, 0.17, 0.16]\n",
      "centroid 2  : [0.98, 0.67, 0.12, 0.51, 0.37, 0.18, 0.05, 0.89, 0.7, 0.05, 0.14, 0.01, 0.66, 0.93, 0.67, 0.38, 0.84, 0.04, 0.05, 0.46, 0.85, 0.52, 0.09, 0.98, 0.84, 0.9, 0.1, 0.56, 0.61, 0.22]\n",
      "centroid 3  : [0.08, 0.41, 0.02, 0.78, 0.72, 0.44, 0.72, 0.39, 0.15, 0.18, 0.18, 0.02, 0.22, 0.69, 0.1, 0.74, 0.91, 0.03, 0.92, 0.32, 0.67, 0.79, 0.13, 0.62, 0.0, 0.73, 0.85, 0.16, 0.41, 0.98]\n",
      "centroid 4  : [1.0, 0.36, 0.77, 0.75, 0.97, 0.96, 0.77, 0.35, 0.66, 0.17, 0.58, 0.28, 0.29, 0.53, 0.26, 0.24, 0.63, 0.21, 0.67, 0.68, 0.12, 0.67, 0.31, 0.74, 0.77, 0.0, 0.01, 0.6, 0.76, 0.98]\n",
      "centroid 5  : [0.7, 0.94, 0.99, 0.64, 0.09, 0.99, 0.35, 0.17, 0.09, 0.1, 0.18, 0.36, 0.88, 0.22, 0.37, 0.42, 0.55, 0.44, 0.84, 0.56, 0.92, 0.53, 0.12, 0.71, 0.82, 0.46, 0.57, 0.39, 0.36, 0.43]\n",
      "centroid 6  : [0.11, 0.45, 0.12, 0.78, 0.79, 0.48, 0.46, 0.19, 0.66, 0.37, 0.18, 0.4, 0.52, 0.03, 0.53, 0.08, 0.62, 0.92, 0.01, 0.49, 0.31, 0.83, 0.47, 0.13, 0.33, 0.46, 0.03, 0.29, 0.45, 0.02]\n",
      "centroid 7  : [0.99, 0.67, 0.45, 0.62, 0.87, 0.57, 0.57, 0.81, 0.95, 0.77, 0.17, 0.61, 0.55, 0.32, 0.84, 0.18, 0.98, 0.26, 0.8, 0.34, 0.78, 0.99, 0.14, 0.66, 0.99, 0.54, 0.45, 0.26, 0.33, 0.1]\n",
      "------------Generation: 18 -----------------\n",
      "iBest Fitness: 0.4956984183656821\n",
      "all index: [6, 6, 6, 6, 6, 6, 6, 6, 6, 6, 6, 6, 6, 6, 6, 6, 6, 6, 6, 6, 6, 6, 6, 6, 6, 6, 6, 6, 6, 6, 6, 6, 6, 6, 6, 6, 6, 6, 3, 6, 6, 2, 6, 6, 6, 6, 2, 6, 6, 6, 6, 6, 6, 6, 6, 6, 6, 6, 6, 6, 6, 6, 6, 6, 6, 6, 6, 6, 3, 6, 6, 6, 3, 3, 6, 3, 3, 3, 6]\n",
      "Clusters centroid:\n",
      "centroid 0  : [0.62, 0.53, 0.97, 0.71, 0.68, 0.15, 0.79, 0.23, 0.05, 0.86, 0.24, 0.2, 0.03, 0.12, 0.23, 0.15, 0.06, 0.55, 0.44, 0.03, 0.91, 0.75, 0.99, 0.57, 0.97, 0.69, 0.28, 0.93, 0.37, 0.29]\n",
      "centroid 1  : [0.11, 0.79, 0.52, 0.4, 0.56, 0.59, 0.57, 0.78, 0.11, 0.72, 0.28, 0.88, 0.05, 0.8, 0.19, 0.64, 0.63, 0.83, 0.97, 0.85, 0.05, 0.68, 0.97, 0.13, 0.45, 0.54, 0.86, 0.95, 0.17, 0.16]\n",
      "centroid 2  : [0.98, 0.67, 0.12, 0.51, 0.37, 0.18, 0.05, 0.89, 0.7, 0.05, 0.14, 0.01, 0.66, 0.93, 0.67, 0.38, 0.84, 0.04, 0.05, 0.46, 0.85, 0.52, 0.09, 0.98, 0.84, 0.9, 0.1, 0.56, 0.61, 0.22]\n",
      "centroid 3  : [0.08, 0.41, 0.02, 0.78, 0.72, 0.44, 0.72, 0.39, 0.15, 0.18, 0.18, 0.02, 0.22, 0.69, 0.1, 0.74, 0.91, 0.03, 0.92, 0.32, 0.67, 0.79, 0.13, 0.62, 0.0, 0.73, 0.85, 0.16, 0.41, 0.98]\n",
      "centroid 4  : [1.0, 0.36, 0.77, 0.75, 0.97, 0.96, 0.77, 0.35, 0.66, 0.17, 0.58, 0.28, 0.29, 0.53, 0.26, 0.24, 0.63, 0.21, 0.67, 0.68, 0.12, 0.67, 0.31, 0.74, 0.77, 0.0, 0.01, 0.6, 0.76, 0.98]\n",
      "centroid 5  : [0.7, 0.94, 0.99, 0.64, 0.09, 0.99, 0.35, 0.17, 0.09, 0.1, 0.18, 0.36, 0.88, 0.22, 0.37, 0.42, 0.55, 0.44, 0.84, 0.56, 0.92, 0.53, 0.12, 0.71, 0.82, 0.46, 0.57, 0.39, 0.36, 0.43]\n",
      "centroid 6  : [0.11, 0.45, 0.12, 0.78, 0.79, 0.48, 0.46, 0.19, 0.66, 0.37, 0.18, 0.4, 0.52, 0.03, 0.53, 0.08, 0.62, 0.92, 0.01, 0.49, 0.31, 0.83, 0.47, 0.13, 0.33, 0.46, 0.03, 0.29, 0.45, 0.02]\n",
      "centroid 7  : [0.99, 0.67, 0.45, 0.62, 0.87, 0.57, 0.57, 0.81, 0.95, 0.77, 0.17, 0.61, 0.55, 0.32, 0.84, 0.18, 0.98, 0.26, 0.8, 0.34, 0.78, 0.99, 0.14, 0.66, 0.99, 0.54, 0.45, 0.26, 0.33, 0.1]\n",
      "------------Generation: 19 -----------------\n",
      "iBest Fitness: 0.4956984183656821\n",
      "all index: [6, 6, 6, 6, 6, 6, 6, 6, 6, 6, 6, 6, 6, 6, 6, 6, 6, 6, 6, 6, 6, 6, 6, 6, 6, 6, 6, 6, 6, 6, 6, 6, 6, 6, 6, 6, 6, 6, 3, 6, 6, 2, 6, 6, 6, 6, 2, 6, 6, 6, 6, 6, 6, 6, 6, 6, 6, 6, 6, 6, 6, 6, 6, 6, 6, 6, 6, 6, 3, 6, 6, 6, 3, 3, 6, 3, 3, 3, 6]\n",
      "Clusters centroid:\n",
      "centroid 0  : [0.62, 0.53, 0.97, 0.71, 0.68, 0.15, 0.79, 0.23, 0.05, 0.86, 0.24, 0.2, 0.03, 0.12, 0.23, 0.15, 0.06, 0.55, 0.44, 0.03, 0.91, 0.75, 0.99, 0.57, 0.97, 0.69, 0.28, 0.93, 0.37, 0.29]\n",
      "centroid 1  : [0.11, 0.79, 0.52, 0.4, 0.56, 0.59, 0.57, 0.78, 0.11, 0.72, 0.28, 0.88, 0.05, 0.8, 0.19, 0.64, 0.63, 0.83, 0.97, 0.85, 0.05, 0.68, 0.97, 0.13, 0.45, 0.54, 0.86, 0.95, 0.17, 0.16]\n",
      "centroid 2  : [0.98, 0.67, 0.12, 0.51, 0.37, 0.18, 0.05, 0.89, 0.7, 0.05, 0.14, 0.01, 0.66, 0.93, 0.67, 0.38, 0.84, 0.04, 0.05, 0.46, 0.85, 0.52, 0.09, 0.98, 0.84, 0.9, 0.1, 0.56, 0.61, 0.22]\n",
      "centroid 3  : [0.08, 0.41, 0.02, 0.78, 0.72, 0.44, 0.72, 0.39, 0.15, 0.18, 0.18, 0.02, 0.22, 0.69, 0.1, 0.74, 0.91, 0.03, 0.92, 0.32, 0.67, 0.79, 0.13, 0.62, 0.0, 0.73, 0.85, 0.16, 0.41, 0.98]\n",
      "centroid 4  : [1.0, 0.36, 0.77, 0.75, 0.97, 0.96, 0.77, 0.35, 0.66, 0.17, 0.58, 0.28, 0.29, 0.53, 0.26, 0.24, 0.63, 0.21, 0.67, 0.68, 0.12, 0.67, 0.31, 0.74, 0.77, 0.0, 0.01, 0.6, 0.76, 0.98]\n",
      "centroid 5  : [0.7, 0.94, 0.99, 0.64, 0.09, 0.99, 0.35, 0.17, 0.09, 0.1, 0.18, 0.36, 0.88, 0.22, 0.37, 0.42, 0.55, 0.44, 0.84, 0.56, 0.92, 0.53, 0.12, 0.71, 0.82, 0.46, 0.57, 0.39, 0.36, 0.43]\n",
      "centroid 6  : [0.11, 0.45, 0.12, 0.78, 0.79, 0.48, 0.46, 0.19, 0.66, 0.37, 0.18, 0.4, 0.52, 0.03, 0.53, 0.08, 0.62, 0.92, 0.01, 0.49, 0.31, 0.83, 0.47, 0.13, 0.33, 0.46, 0.03, 0.29, 0.45, 0.02]\n",
      "centroid 7  : [0.99, 0.67, 0.45, 0.62, 0.87, 0.57, 0.57, 0.81, 0.95, 0.77, 0.17, 0.61, 0.55, 0.32, 0.84, 0.18, 0.98, 0.26, 0.8, 0.34, 0.78, 0.99, 0.14, 0.66, 0.99, 0.54, 0.45, 0.26, 0.33, 0.1]\n",
      "------------Generation: 20 -----------------\n"
     ]
    },
    {
     "name": "stdout",
     "output_type": "stream",
     "text": [
      "iBest Fitness: 0.4956984183656821\n",
      "all index: [6, 6, 6, 6, 6, 6, 6, 6, 6, 6, 6, 6, 6, 6, 6, 6, 6, 6, 6, 6, 6, 6, 6, 6, 6, 6, 6, 6, 6, 6, 6, 6, 6, 6, 6, 6, 6, 6, 3, 6, 6, 2, 6, 6, 6, 6, 2, 6, 6, 6, 6, 6, 6, 6, 6, 6, 6, 6, 6, 6, 6, 6, 6, 6, 6, 6, 6, 6, 3, 6, 6, 6, 3, 3, 6, 3, 3, 3, 6]\n",
      "Clusters centroid:\n",
      "centroid 0  : [0.62, 0.53, 0.97, 0.71, 0.68, 0.15, 0.79, 0.23, 0.05, 0.86, 0.24, 0.2, 0.03, 0.12, 0.23, 0.15, 0.06, 0.55, 0.44, 0.03, 0.91, 0.75, 0.99, 0.57, 0.97, 0.69, 0.28, 0.93, 0.37, 0.29]\n",
      "centroid 1  : [0.11, 0.79, 0.52, 0.4, 0.56, 0.59, 0.57, 0.78, 0.11, 0.72, 0.28, 0.88, 0.05, 0.8, 0.19, 0.64, 0.63, 0.83, 0.97, 0.85, 0.05, 0.68, 0.97, 0.13, 0.45, 0.54, 0.86, 0.95, 0.17, 0.16]\n",
      "centroid 2  : [0.98, 0.67, 0.12, 0.51, 0.37, 0.18, 0.05, 0.89, 0.7, 0.05, 0.14, 0.01, 0.66, 0.93, 0.67, 0.38, 0.84, 0.04, 0.05, 0.46, 0.85, 0.52, 0.09, 0.98, 0.84, 0.9, 0.1, 0.56, 0.61, 0.22]\n",
      "centroid 3  : [0.08, 0.41, 0.02, 0.78, 0.72, 0.44, 0.72, 0.39, 0.15, 0.18, 0.18, 0.02, 0.22, 0.69, 0.1, 0.74, 0.91, 0.03, 0.92, 0.32, 0.67, 0.79, 0.13, 0.62, 0.0, 0.73, 0.85, 0.16, 0.41, 0.98]\n",
      "centroid 4  : [1.0, 0.36, 0.77, 0.75, 0.97, 0.96, 0.77, 0.35, 0.66, 0.17, 0.58, 0.28, 0.29, 0.53, 0.26, 0.24, 0.63, 0.21, 0.67, 0.68, 0.12, 0.67, 0.31, 0.74, 0.77, 0.0, 0.01, 0.6, 0.76, 0.98]\n",
      "centroid 5  : [0.7, 0.94, 0.99, 0.64, 0.09, 0.99, 0.35, 0.17, 0.09, 0.1, 0.18, 0.36, 0.88, 0.22, 0.37, 0.42, 0.55, 0.44, 0.84, 0.56, 0.92, 0.53, 0.12, 0.71, 0.82, 0.46, 0.57, 0.39, 0.36, 0.43]\n",
      "centroid 6  : [0.11, 0.45, 0.12, 0.78, 0.79, 0.48, 0.46, 0.19, 0.66, 0.37, 0.18, 0.4, 0.52, 0.03, 0.53, 0.08, 0.62, 0.92, 0.01, 0.49, 0.31, 0.83, 0.47, 0.13, 0.33, 0.46, 0.03, 0.29, 0.45, 0.02]\n",
      "centroid 7  : [0.99, 0.67, 0.45, 0.62, 0.87, 0.57, 0.57, 0.81, 0.95, 0.77, 0.17, 0.61, 0.55, 0.32, 0.84, 0.18, 0.98, 0.26, 0.8, 0.34, 0.78, 0.99, 0.14, 0.66, 0.99, 0.54, 0.45, 0.26, 0.33, 0.1]\n",
      "------------Generation: 21 -----------------\n",
      "iBest Fitness: 0.4956984183656821\n",
      "all index: [6, 6, 6, 6, 6, 6, 6, 6, 6, 6, 6, 6, 6, 6, 6, 6, 6, 6, 6, 6, 6, 6, 6, 6, 6, 6, 6, 6, 6, 6, 6, 6, 6, 6, 6, 6, 6, 6, 3, 6, 6, 2, 6, 6, 6, 6, 2, 6, 6, 6, 6, 6, 6, 6, 6, 6, 6, 6, 6, 6, 6, 6, 6, 6, 6, 6, 6, 6, 3, 6, 6, 6, 3, 3, 6, 3, 3, 3, 6]\n",
      "Clusters centroid:\n",
      "centroid 0  : [0.62, 0.53, 0.97, 0.71, 0.68, 0.15, 0.79, 0.23, 0.05, 0.86, 0.24, 0.2, 0.03, 0.12, 0.23, 0.15, 0.06, 0.55, 0.44, 0.03, 0.91, 0.75, 0.99, 0.57, 0.97, 0.69, 0.28, 0.93, 0.37, 0.29]\n",
      "centroid 1  : [0.11, 0.79, 0.52, 0.4, 0.56, 0.59, 0.57, 0.78, 0.11, 0.72, 0.28, 0.88, 0.05, 0.8, 0.19, 0.64, 0.63, 0.83, 0.97, 0.85, 0.05, 0.68, 0.97, 0.13, 0.45, 0.54, 0.86, 0.95, 0.17, 0.16]\n",
      "centroid 2  : [0.98, 0.67, 0.12, 0.51, 0.37, 0.18, 0.05, 0.89, 0.7, 0.05, 0.14, 0.01, 0.66, 0.93, 0.67, 0.38, 0.84, 0.04, 0.05, 0.46, 0.85, 0.52, 0.09, 0.98, 0.84, 0.9, 0.1, 0.56, 0.61, 0.22]\n",
      "centroid 3  : [0.08, 0.41, 0.02, 0.78, 0.72, 0.44, 0.72, 0.39, 0.15, 0.18, 0.18, 0.02, 0.22, 0.69, 0.1, 0.74, 0.91, 0.03, 0.92, 0.32, 0.67, 0.79, 0.13, 0.62, 0.0, 0.73, 0.85, 0.16, 0.41, 0.98]\n",
      "centroid 4  : [1.0, 0.36, 0.77, 0.75, 0.97, 0.96, 0.77, 0.35, 0.66, 0.17, 0.58, 0.28, 0.29, 0.53, 0.26, 0.24, 0.63, 0.21, 0.67, 0.68, 0.12, 0.67, 0.31, 0.74, 0.77, 0.0, 0.01, 0.6, 0.76, 0.98]\n",
      "centroid 5  : [0.7, 0.94, 0.99, 0.64, 0.09, 0.99, 0.35, 0.17, 0.09, 0.1, 0.18, 0.36, 0.88, 0.22, 0.37, 0.42, 0.55, 0.44, 0.84, 0.56, 0.92, 0.53, 0.12, 0.71, 0.82, 0.46, 0.57, 0.39, 0.36, 0.43]\n",
      "centroid 6  : [0.11, 0.45, 0.12, 0.78, 0.79, 0.48, 0.46, 0.19, 0.66, 0.37, 0.18, 0.4, 0.52, 0.03, 0.53, 0.08, 0.62, 0.92, 0.01, 0.49, 0.31, 0.83, 0.47, 0.13, 0.33, 0.46, 0.03, 0.29, 0.45, 0.02]\n",
      "centroid 7  : [0.99, 0.67, 0.45, 0.62, 0.87, 0.57, 0.57, 0.81, 0.95, 0.77, 0.17, 0.61, 0.55, 0.32, 0.84, 0.18, 0.98, 0.26, 0.8, 0.34, 0.78, 0.99, 0.14, 0.66, 0.99, 0.54, 0.45, 0.26, 0.33, 0.1]\n",
      "------------Generation: 22 -----------------\n",
      "iBest Fitness: 0.5086099144130034\n",
      "all index: [6, 6, 6, 6, 6, 6, 6, 6, 6, 6, 6, 6, 6, 6, 6, 6, 6, 6, 6, 6, 6, 6, 6, 6, 6, 6, 6, 6, 6, 6, 6, 6, 6, 6, 6, 6, 6, 6, 3, 6, 6, 2, 6, 6, 6, 6, 2, 6, 6, 6, 6, 6, 6, 6, 6, 6, 6, 6, 6, 6, 6, 6, 6, 6, 6, 6, 6, 6, 3, 6, 6, 6, 3, 3, 6, 3, 6, 3, 6]\n",
      "Clusters centroid:\n",
      "centroid 0  : [0.62, 0.53, 0.97, 0.71, 0.68, 0.15, 0.79, 0.23, 0.05, 0.86, 0.24, 0.2, 0.03, 0.12, 0.23, 0.15, 0.06, 0.55, 0.44, 0.03, 0.91, 0.75, 0.99, 0.57, 0.97, 0.69, 0.28, 0.93, 0.37, 0.29]\n",
      "centroid 1  : [0.11, 0.79, 0.52, 0.4, 0.56, 0.59, 0.57, 0.78, 0.11, 0.72, 0.28, 0.88, 0.05, 0.8, 0.19, 0.64, 0.63, 0.83, 0.97, 0.85, 0.05, 0.68, 0.97, 0.13, 0.45, 0.54, 0.86, 0.95, 0.17, 0.16]\n",
      "centroid 2  : [0.98, 0.67, 0.12, 0.51, 0.19, 0.18, 0.05, 0.89, 0.7, 0.05, 0.14, 0.01, 0.66, 0.93, 0.67, 0.38, 0.84, 0.04, 0.05, 0.46, 0.85, 0.52, 0.09, 0.98, 0.84, 0.9, 0.1, 0.56, 0.61, 0.22]\n",
      "centroid 3  : [0.08, 0.41, 0.02, 0.78, 0.72, 0.44, 0.72, 0.39, 0.15, 0.18, 0.18, 0.02, 0.22, 0.69, 0.1, 0.74, 0.91, 0.03, 0.92, 0.32, 0.67, 0.79, 0.13, 0.62, 0.0, 0.73, 0.85, 0.16, 0.41, 0.98]\n",
      "centroid 4  : [1.0, 0.36, 0.77, 0.75, 0.97, 0.96, 0.77, 0.35, 0.66, 0.17, 0.58, 0.28, 0.29, 0.53, 0.26, 0.24, 0.63, 0.21, 0.67, 0.68, 0.12, 0.67, 0.31, 0.74, 0.77, 0.0, 0.01, 0.6, 0.31, 0.98]\n",
      "centroid 5  : [0.7, 0.94, 0.99, 0.64, 0.09, 0.99, 0.35, 0.17, 0.09, 0.1, 0.18, 0.36, 0.88, 0.22, 0.37, 0.42, 0.55, 0.44, 0.84, 0.56, 0.92, 0.53, 0.12, 0.71, 0.82, 0.46, 0.57, 0.39, 0.36, 0.43]\n",
      "centroid 6  : [0.11, 0.45, 0.12, 0.78, 0.79, 0.48, 0.46, 0.19, 0.66, 0.37, 0.18, 0.4, 0.52, 0.03, 0.53, 0.08, 0.62, 0.92, 0.01, 0.49, 0.31, 0.54, 0.47, 0.13, 0.33, 0.46, 0.03, 0.29, 0.45, 0.02]\n",
      "centroid 7  : [0.99, 0.67, 0.45, 0.62, 0.87, 0.57, 0.57, 0.81, 0.95, 0.77, 0.17, 0.61, 0.55, 0.32, 0.84, 0.18, 0.98, 0.26, 0.8, 0.34, 0.78, 0.99, 0.14, 0.66, 0.99, 0.54, 0.45, 0.26, 0.33, 0.1]\n",
      "------------Generation: 23 -----------------\n",
      "iBest Fitness: 0.5086099144130034\n",
      "all index: [6, 6, 6, 6, 6, 6, 6, 6, 6, 6, 6, 6, 6, 6, 6, 6, 6, 6, 6, 6, 6, 6, 6, 6, 6, 6, 6, 6, 6, 6, 6, 6, 6, 6, 6, 6, 6, 6, 3, 6, 6, 2, 6, 6, 6, 6, 2, 6, 6, 6, 6, 6, 6, 6, 6, 6, 6, 6, 6, 6, 6, 6, 6, 6, 6, 6, 6, 6, 3, 6, 6, 6, 3, 3, 6, 3, 6, 3, 6]\n",
      "Clusters centroid:\n",
      "centroid 0  : [0.62, 0.53, 0.97, 0.71, 0.68, 0.15, 0.79, 0.23, 0.05, 0.86, 0.24, 0.2, 0.03, 0.12, 0.23, 0.15, 0.06, 0.55, 0.44, 0.03, 0.91, 0.75, 0.99, 0.57, 0.97, 0.69, 0.28, 0.93, 0.37, 0.29]\n",
      "centroid 1  : [0.11, 0.79, 0.52, 0.4, 0.56, 0.59, 0.57, 0.78, 0.11, 0.72, 0.28, 0.88, 0.05, 0.8, 0.19, 0.64, 0.63, 0.83, 0.97, 0.85, 0.05, 0.68, 0.97, 0.13, 0.45, 0.54, 0.86, 0.95, 0.17, 0.16]\n",
      "centroid 2  : [0.98, 0.67, 0.12, 0.51, 0.19, 0.18, 0.05, 0.89, 0.7, 0.05, 0.14, 0.01, 0.66, 0.93, 0.67, 0.38, 0.84, 0.04, 0.05, 0.46, 0.85, 0.52, 0.09, 0.98, 0.84, 0.9, 0.1, 0.56, 0.61, 0.22]\n",
      "centroid 3  : [0.08, 0.41, 0.02, 0.78, 0.72, 0.44, 0.72, 0.39, 0.15, 0.18, 0.18, 0.02, 0.22, 0.69, 0.1, 0.74, 0.91, 0.03, 0.92, 0.32, 0.67, 0.79, 0.13, 0.62, 0.0, 0.73, 0.85, 0.16, 0.41, 0.98]\n",
      "centroid 4  : [1.0, 0.36, 0.77, 0.75, 0.97, 0.96, 0.77, 0.35, 0.66, 0.17, 0.58, 0.28, 0.29, 0.53, 0.26, 0.24, 0.63, 0.21, 0.67, 0.68, 0.12, 0.67, 0.31, 0.74, 0.77, 0.0, 0.01, 0.6, 0.31, 0.98]\n",
      "centroid 5  : [0.7, 0.94, 0.99, 0.64, 0.09, 0.99, 0.35, 0.17, 0.09, 0.1, 0.18, 0.36, 0.88, 0.22, 0.37, 0.42, 0.55, 0.44, 0.84, 0.56, 0.92, 0.53, 0.12, 0.71, 0.82, 0.46, 0.57, 0.39, 0.36, 0.43]\n",
      "centroid 6  : [0.11, 0.45, 0.12, 0.78, 0.79, 0.48, 0.46, 0.19, 0.66, 0.37, 0.18, 0.4, 0.52, 0.03, 0.53, 0.08, 0.62, 0.92, 0.01, 0.49, 0.31, 0.54, 0.47, 0.13, 0.33, 0.46, 0.03, 0.29, 0.45, 0.02]\n",
      "centroid 7  : [0.99, 0.67, 0.45, 0.62, 0.87, 0.57, 0.57, 0.81, 0.95, 0.77, 0.17, 0.61, 0.55, 0.32, 0.84, 0.18, 0.98, 0.26, 0.8, 0.34, 0.78, 0.99, 0.14, 0.66, 0.99, 0.54, 0.45, 0.26, 0.33, 0.1]\n",
      "------------Generation: 24 -----------------\n",
      "iBest Fitness: 0.5086099144130034\n",
      "all index: [6, 6, 6, 6, 6, 6, 6, 6, 6, 6, 6, 6, 6, 6, 6, 6, 6, 6, 6, 6, 6, 6, 6, 6, 6, 6, 6, 6, 6, 6, 6, 6, 6, 6, 6, 6, 6, 6, 3, 6, 6, 2, 6, 6, 6, 6, 2, 6, 6, 6, 6, 6, 6, 6, 6, 6, 6, 6, 6, 6, 6, 6, 6, 6, 6, 6, 6, 6, 3, 6, 6, 6, 3, 3, 6, 3, 6, 3, 6]\n",
      "Clusters centroid:\n",
      "centroid 0  : [0.62, 0.53, 0.97, 0.71, 0.68, 0.15, 0.79, 0.23, 0.05, 0.86, 0.24, 0.2, 0.03, 0.12, 0.23, 0.15, 0.06, 0.55, 0.44, 0.03, 0.91, 0.75, 0.99, 0.57, 0.97, 0.69, 0.28, 0.93, 0.37, 0.29]\n",
      "centroid 1  : [0.11, 0.79, 0.52, 0.4, 0.56, 0.59, 0.57, 0.78, 0.11, 0.72, 0.28, 0.88, 0.05, 0.8, 0.19, 0.64, 0.63, 0.83, 0.97, 0.85, 0.05, 0.68, 0.97, 0.13, 0.45, 0.54, 0.86, 0.95, 0.17, 0.16]\n",
      "centroid 2  : [0.98, 0.67, 0.12, 0.51, 0.19, 0.18, 0.05, 0.89, 0.7, 0.05, 0.14, 0.01, 0.66, 0.93, 0.67, 0.38, 0.84, 0.04, 0.05, 0.46, 0.85, 0.52, 0.09, 0.98, 0.84, 0.9, 0.1, 0.56, 0.61, 0.22]\n",
      "centroid 3  : [0.08, 0.41, 0.02, 0.78, 0.72, 0.44, 0.72, 0.39, 0.15, 0.18, 0.18, 0.02, 0.22, 0.69, 0.1, 0.74, 0.91, 0.03, 0.92, 0.32, 0.67, 0.79, 0.13, 0.62, 0.0, 0.73, 0.85, 0.16, 0.41, 0.98]\n",
      "centroid 4  : [1.0, 0.36, 0.77, 0.75, 0.97, 0.96, 0.77, 0.35, 0.66, 0.17, 0.58, 0.28, 0.29, 0.53, 0.26, 0.24, 0.63, 0.21, 0.67, 0.68, 0.12, 0.67, 0.31, 0.74, 0.77, 0.0, 0.01, 0.6, 0.31, 0.98]\n",
      "centroid 5  : [0.7, 0.94, 0.99, 0.64, 0.09, 0.99, 0.35, 0.17, 0.09, 0.1, 0.18, 0.36, 0.88, 0.22, 0.37, 0.42, 0.55, 0.44, 0.84, 0.56, 0.92, 0.53, 0.12, 0.71, 0.82, 0.46, 0.57, 0.39, 0.36, 0.43]\n",
      "centroid 6  : [0.11, 0.45, 0.12, 0.78, 0.79, 0.48, 0.46, 0.19, 0.66, 0.37, 0.18, 0.4, 0.52, 0.03, 0.53, 0.08, 0.62, 0.92, 0.01, 0.49, 0.31, 0.54, 0.47, 0.13, 0.33, 0.46, 0.03, 0.29, 0.45, 0.02]\n",
      "centroid 7  : [0.99, 0.67, 0.45, 0.62, 0.87, 0.57, 0.57, 0.81, 0.95, 0.77, 0.17, 0.61, 0.55, 0.32, 0.84, 0.18, 0.98, 0.26, 0.8, 0.34, 0.78, 0.99, 0.14, 0.66, 0.99, 0.54, 0.45, 0.26, 0.33, 0.1]\n",
      "------------Generation: 25 -----------------\n"
     ]
    },
    {
     "name": "stdout",
     "output_type": "stream",
     "text": [
      "iBest Fitness: 0.5086099144130034\n",
      "all index: [6, 6, 6, 6, 6, 6, 6, 6, 6, 6, 6, 6, 6, 6, 6, 6, 6, 6, 6, 6, 6, 6, 6, 6, 6, 6, 6, 6, 6, 6, 6, 6, 6, 6, 6, 6, 6, 6, 3, 6, 6, 2, 6, 6, 6, 6, 2, 6, 6, 6, 6, 6, 6, 6, 6, 6, 6, 6, 6, 6, 6, 6, 6, 6, 6, 6, 6, 6, 3, 6, 6, 6, 3, 3, 6, 3, 6, 3, 6]\n",
      "Clusters centroid:\n",
      "centroid 0  : [0.62, 0.53, 0.97, 0.71, 0.68, 0.15, 0.79, 0.23, 0.05, 0.86, 0.24, 0.2, 0.03, 0.12, 0.23, 0.15, 0.06, 0.55, 0.44, 0.03, 0.91, 0.75, 0.99, 0.57, 0.97, 0.69, 0.28, 0.93, 0.37, 0.29]\n",
      "centroid 1  : [0.11, 0.79, 0.52, 0.4, 0.56, 0.59, 0.57, 0.78, 0.11, 0.72, 0.28, 0.88, 0.05, 0.8, 0.19, 0.64, 0.63, 0.83, 0.97, 0.85, 0.05, 0.68, 0.97, 0.13, 0.45, 0.54, 0.86, 0.95, 0.17, 0.16]\n",
      "centroid 2  : [0.98, 0.67, 0.12, 0.51, 0.19, 0.18, 0.05, 0.89, 0.7, 0.05, 0.14, 0.01, 0.66, 0.93, 0.67, 0.38, 0.84, 0.04, 0.05, 0.46, 0.85, 0.52, 0.09, 0.98, 0.84, 0.9, 0.1, 0.56, 0.61, 0.22]\n",
      "centroid 3  : [0.08, 0.41, 0.02, 0.78, 0.72, 0.44, 0.72, 0.39, 0.15, 0.18, 0.18, 0.02, 0.22, 0.69, 0.1, 0.74, 0.91, 0.03, 0.92, 0.32, 0.67, 0.79, 0.13, 0.62, 0.0, 0.73, 0.85, 0.16, 0.41, 0.98]\n",
      "centroid 4  : [1.0, 0.36, 0.77, 0.75, 0.97, 0.96, 0.77, 0.35, 0.66, 0.17, 0.58, 0.28, 0.29, 0.53, 0.26, 0.24, 0.63, 0.21, 0.67, 0.68, 0.12, 0.67, 0.31, 0.74, 0.77, 0.0, 0.01, 0.6, 0.31, 0.98]\n",
      "centroid 5  : [0.7, 0.94, 0.99, 0.64, 0.09, 0.99, 0.35, 0.17, 0.09, 0.1, 0.18, 0.36, 0.88, 0.22, 0.37, 0.42, 0.55, 0.44, 0.84, 0.56, 0.92, 0.53, 0.12, 0.71, 0.82, 0.46, 0.57, 0.39, 0.36, 0.43]\n",
      "centroid 6  : [0.11, 0.45, 0.12, 0.78, 0.79, 0.48, 0.46, 0.19, 0.66, 0.37, 0.18, 0.4, 0.52, 0.03, 0.53, 0.08, 0.62, 0.92, 0.01, 0.49, 0.31, 0.54, 0.47, 0.13, 0.33, 0.46, 0.03, 0.29, 0.45, 0.02]\n",
      "centroid 7  : [0.99, 0.67, 0.45, 0.62, 0.87, 0.57, 0.57, 0.81, 0.95, 0.77, 0.17, 0.61, 0.55, 0.32, 0.84, 0.18, 0.98, 0.26, 0.8, 0.34, 0.78, 0.99, 0.14, 0.66, 0.99, 0.54, 0.45, 0.26, 0.33, 0.1]\n",
      "------------Generation: 26 -----------------\n",
      "iBest Fitness: 0.5086099144130034\n",
      "all index: [6, 6, 6, 6, 6, 6, 6, 6, 6, 6, 6, 6, 6, 6, 6, 6, 6, 6, 6, 6, 6, 6, 6, 6, 6, 6, 6, 6, 6, 6, 6, 6, 6, 6, 6, 6, 6, 6, 3, 6, 6, 2, 6, 6, 6, 6, 2, 6, 6, 6, 6, 6, 6, 6, 6, 6, 6, 6, 6, 6, 6, 6, 6, 6, 6, 6, 6, 6, 3, 6, 6, 6, 3, 3, 6, 3, 6, 3, 6]\n",
      "Clusters centroid:\n",
      "centroid 0  : [0.62, 0.53, 0.97, 0.71, 0.68, 0.15, 0.79, 0.23, 0.05, 0.86, 0.24, 0.2, 0.03, 0.12, 0.23, 0.15, 0.06, 0.55, 0.44, 0.03, 0.91, 0.75, 0.99, 0.57, 0.97, 0.69, 0.28, 0.93, 0.37, 0.29]\n",
      "centroid 1  : [0.11, 0.79, 0.52, 0.4, 0.56, 0.59, 0.57, 0.78, 0.11, 0.72, 0.28, 0.88, 0.05, 0.8, 0.19, 0.64, 0.63, 0.83, 0.97, 0.85, 0.05, 0.68, 0.97, 0.13, 0.45, 0.54, 0.86, 0.95, 0.17, 0.16]\n",
      "centroid 2  : [0.98, 0.67, 0.12, 0.51, 0.19, 0.18, 0.05, 0.89, 0.7, 0.05, 0.14, 0.01, 0.66, 0.93, 0.67, 0.38, 0.84, 0.04, 0.05, 0.46, 0.85, 0.52, 0.09, 0.98, 0.84, 0.9, 0.1, 0.56, 0.61, 0.22]\n",
      "centroid 3  : [0.08, 0.41, 0.02, 0.78, 0.72, 0.44, 0.72, 0.39, 0.15, 0.18, 0.18, 0.02, 0.22, 0.69, 0.1, 0.74, 0.91, 0.03, 0.92, 0.32, 0.67, 0.79, 0.13, 0.62, 0.0, 0.73, 0.85, 0.16, 0.41, 0.98]\n",
      "centroid 4  : [1.0, 0.36, 0.77, 0.75, 0.97, 0.96, 0.77, 0.35, 0.66, 0.17, 0.58, 0.28, 0.29, 0.53, 0.26, 0.24, 0.63, 0.21, 0.67, 0.68, 0.12, 0.67, 0.31, 0.74, 0.77, 0.0, 0.01, 0.6, 0.31, 0.98]\n",
      "centroid 5  : [0.7, 0.94, 0.99, 0.64, 0.09, 0.99, 0.35, 0.17, 0.09, 0.1, 0.18, 0.36, 0.88, 0.22, 0.37, 0.42, 0.55, 0.44, 0.84, 0.56, 0.92, 0.53, 0.12, 0.71, 0.82, 0.46, 0.57, 0.39, 0.36, 0.43]\n",
      "centroid 6  : [0.11, 0.45, 0.12, 0.78, 0.79, 0.48, 0.46, 0.19, 0.66, 0.37, 0.18, 0.4, 0.52, 0.03, 0.53, 0.08, 0.62, 0.92, 0.01, 0.49, 0.31, 0.54, 0.47, 0.13, 0.33, 0.46, 0.03, 0.29, 0.45, 0.02]\n",
      "centroid 7  : [0.99, 0.67, 0.45, 0.62, 0.87, 0.57, 0.57, 0.81, 0.95, 0.77, 0.17, 0.61, 0.55, 0.32, 0.84, 0.18, 0.98, 0.26, 0.8, 0.34, 0.78, 0.99, 0.14, 0.66, 0.99, 0.54, 0.45, 0.26, 0.33, 0.1]\n",
      "------------Generation: 27 -----------------\n",
      "iBest Fitness: 0.5270138439428338\n",
      "all index: [6, 6, 6, 6, 6, 6, 6, 6, 6, 6, 6, 6, 6, 6, 6, 6, 6, 6, 6, 6, 6, 6, 6, 6, 6, 6, 6, 6, 6, 6, 6, 6, 6, 6, 6, 6, 6, 6, 6, 6, 3, 2, 6, 6, 6, 6, 2, 6, 6, 6, 6, 6, 6, 6, 6, 6, 6, 6, 6, 6, 6, 6, 6, 6, 6, 6, 6, 6, 6, 6, 6, 6, 3, 3, 6, 3, 3, 3, 6]\n",
      "Clusters centroid:\n",
      "centroid 0  : [0.62, 0.5, 0.97, 0.71, 0.68, 0.22, 0.79, 0.64, 0.05, 0.5, 0.65, 0.2, 0.03, 0.15, 0.96, 0.15, 0.0, 0.55, 0.51, 0.03, 0.91, 0.3, 0.46, 0.57, 0.97, 0.69, 0.55, 0.7, 0.33, 0.29]\n",
      "centroid 1  : [0.11, 0.46, 0.46, 1.0, 0.56, 0.59, 0.86, 0.9, 0.11, 0.72, 0.28, 0.88, 0.05, 0.16, 0.19, 0.81, 0.75, 0.83, 0.97, 0.39, 0.81, 0.68, 0.97, 0.13, 0.45, 0.54, 0.86, 0.95, 0.17, 0.16]\n",
      "centroid 2  : [0.98, 0.07, 0.12, 0.51, 1.0, 0.18, 0.05, 0.89, 0.09, 0.05, 0.75, 0.01, 0.48, 0.93, 0.67, 0.38, 0.28, 0.04, 0.05, 0.46, 0.13, 0.52, 0.09, 0.98, 0.84, 0.9, 0.1, 0.56, 0.61, 0.22]\n",
      "centroid 3  : [0.08, 0.86, 0.02, 0.65, 0.04, 0.44, 0.72, 0.39, 0.15, 0.18, 0.18, 0.02, 0.38, 0.46, 0.73, 0.74, 0.01, 0.03, 0.92, 0.32, 0.94, 0.79, 0.71, 0.62, 0.0, 0.04, 0.85, 0.78, 0.41, 0.44]\n",
      "centroid 4  : [1.0, 0.36, 0.07, 0.23, 0.97, 0.96, 0.12, 0.35, 0.66, 0.17, 0.58, 0.28, 0.11, 0.53, 0.26, 0.24, 0.63, 0.21, 0.67, 0.68, 0.12, 0.67, 0.31, 0.74, 0.77, 0.0, 0.81, 0.6, 0.76, 0.98]\n",
      "centroid 5  : [0.7, 0.5, 0.42, 0.98, 0.09, 0.99, 0.35, 0.17, 0.83, 0.1, 0.18, 0.85, 0.88, 0.22, 0.83, 0.42, 0.15, 0.44, 0.32, 0.56, 0.92, 0.53, 0.12, 0.71, 0.82, 0.74, 0.57, 0.39, 0.36, 0.43]\n",
      "centroid 6  : [0.11, 0.45, 0.12, 0.7, 0.79, 0.48, 0.46, 0.19, 0.66, 0.37, 0.29, 0.4, 0.52, 0.03, 0.53, 0.08, 0.62, 0.67, 0.01, 0.01, 0.31, 0.83, 0.47, 0.13, 0.33, 0.24, 0.03, 0.29, 0.45, 0.02]\n",
      "centroid 7  : [0.97, 0.67, 0.45, 0.62, 0.31, 0.79, 0.57, 0.81, 0.95, 0.64, 0.17, 0.61, 0.55, 0.14, 0.05, 0.18, 0.35, 0.83, 0.87, 0.34, 0.92, 0.99, 0.14, 0.66, 0.99, 0.54, 0.45, 0.26, 0.33, 0.1]\n",
      "------------Generation: 28 -----------------\n",
      "iBest Fitness: 0.9061288065439618\n",
      "all index: [6, 6, 6, 6, 6, 6, 6, 6, 6, 6, 6, 6, 6, 6, 6, 6, 6, 6, 6, 6, 6, 6, 6, 6, 6, 6, 6, 6, 6, 6, 6, 6, 6, 6, 6, 6, 6, 6, 6, 6, 6, 6, 6, 6, 6, 6, 6, 6, 6, 6, 6, 6, 6, 6, 6, 6, 6, 6, 6, 6, 6, 6, 6, 6, 6, 6, 6, 6, 6, 6, 6, 6, 6, 6, 6, 6, 6, 6, 6]\n",
      "Clusters centroid:\n",
      "centroid 0  : [0.62, 0.53, 0.97, 0.71, 0.68, 0.15, 0.79, 0.64, 0.91, 0.98, 0.65, 0.2, 0.03, 0.12, 0.23, 0.15, 0.17, 0.95, 0.51, 0.03, 0.91, 0.3, 0.11, 0.62, 0.97, 0.93, 0.87, 0.82, 0.37, 0.29]\n",
      "centroid 1  : [0.11, 0.46, 0.46, 1.0, 0.56, 0.59, 0.86, 0.78, 0.11, 0.72, 0.28, 0.88, 0.05, 0.94, 0.57, 0.64, 0.63, 0.83, 0.97, 0.15, 0.81, 0.68, 0.97, 0.13, 0.45, 0.14, 0.46, 0.95, 0.17, 0.16]\n",
      "centroid 2  : [0.98, 0.07, 0.12, 0.51, 1.0, 0.18, 0.65, 0.38, 0.7, 0.05, 0.75, 0.01, 0.66, 0.93, 0.67, 0.38, 0.28, 0.97, 0.05, 0.04, 0.33, 0.12, 0.09, 0.98, 0.7, 0.9, 0.1, 0.56, 0.61, 0.22]\n",
      "centroid 3  : [0.08, 0.41, 0.02, 0.65, 0.72, 0.44, 0.72, 0.39, 0.48, 0.18, 0.18, 0.02, 0.94, 0.69, 0.1, 0.74, 0.91, 0.03, 0.92, 0.32, 0.94, 0.79, 0.13, 0.55, 0.73, 0.8, 0.63, 0.16, 0.41, 0.44]\n",
      "centroid 4  : [1.0, 0.36, 0.57, 0.23, 0.97, 0.96, 0.77, 0.35, 0.66, 0.17, 0.58, 0.28, 0.11, 0.53, 0.26, 0.24, 0.63, 0.81, 0.67, 0.68, 0.12, 0.67, 0.31, 0.74, 0.77, 0.0, 0.52, 0.6, 0.76, 0.98]\n",
      "centroid 5  : [0.7, 0.93, 0.42, 0.91, 0.42, 0.99, 0.35, 0.17, 0.62, 0.1, 0.18, 0.85, 0.88, 0.22, 0.87, 0.42, 0.55, 0.44, 0.84, 0.56, 0.92, 0.53, 0.12, 0.71, 0.82, 0.74, 0.57, 0.33, 0.36, 0.43]\n",
      "centroid 6  : [0.11, 0.45, 0.12, 0.78, 0.79, 0.15, 0.46, 0.19, 0.66, 0.37, 0.18, 0.4, 0.52, 0.03, 0.53, 0.08, 0.62, 0.34, 0.31, 0.01, 0.31, 0.83, 0.47, 0.13, 0.33, 0.24, 0.36, 0.29, 0.45, 0.02]\n",
      "centroid 7  : [0.26, 0.67, 0.45, 0.62, 0.25, 0.79, 0.57, 0.81, 0.95, 0.45, 0.17, 0.61, 0.2, 0.14, 0.05, 0.18, 0.98, 0.44, 0.8, 0.42, 0.92, 0.99, 0.14, 0.66, 0.99, 0.54, 0.01, 0.97, 0.33, 0.1]\n",
      "------------Generation: 29 -----------------\n",
      "iBest Fitness: 0.9061288065439618\n",
      "all index: [6, 6, 6, 6, 6, 6, 6, 6, 6, 6, 6, 6, 6, 6, 6, 6, 6, 6, 6, 6, 6, 6, 6, 6, 6, 6, 6, 6, 6, 6, 6, 6, 6, 6, 6, 6, 6, 6, 6, 6, 6, 6, 6, 6, 6, 6, 6, 6, 6, 6, 6, 6, 6, 6, 6, 6, 6, 6, 6, 6, 6, 6, 6, 6, 6, 6, 6, 6, 6, 6, 6, 6, 6, 6, 6, 6, 6, 6, 6]\n",
      "Clusters centroid:\n",
      "centroid 0  : [0.62, 0.53, 0.97, 0.71, 0.68, 0.15, 0.79, 0.64, 0.91, 0.98, 0.65, 0.2, 0.03, 0.12, 0.23, 0.15, 0.17, 0.95, 0.51, 0.03, 0.91, 0.3, 0.11, 0.62, 0.97, 0.93, 0.87, 0.82, 0.37, 0.29]\n",
      "centroid 1  : [0.11, 0.46, 0.46, 1.0, 0.56, 0.59, 0.86, 0.78, 0.11, 0.72, 0.28, 0.88, 0.05, 0.94, 0.57, 0.64, 0.63, 0.83, 0.97, 0.15, 0.81, 0.68, 0.97, 0.13, 0.45, 0.14, 0.46, 0.95, 0.17, 0.16]\n",
      "centroid 2  : [0.98, 0.07, 0.12, 0.51, 1.0, 0.18, 0.65, 0.38, 0.7, 0.05, 0.75, 0.01, 0.66, 0.93, 0.67, 0.38, 0.28, 0.97, 0.05, 0.04, 0.33, 0.12, 0.09, 0.98, 0.7, 0.9, 0.1, 0.56, 0.61, 0.22]\n",
      "centroid 3  : [0.08, 0.41, 0.02, 0.65, 0.72, 0.44, 0.72, 0.39, 0.48, 0.18, 0.18, 0.02, 0.94, 0.69, 0.1, 0.74, 0.91, 0.03, 0.92, 0.32, 0.94, 0.79, 0.13, 0.55, 0.73, 0.8, 0.63, 0.16, 0.41, 0.44]\n",
      "centroid 4  : [1.0, 0.36, 0.57, 0.23, 0.97, 0.96, 0.77, 0.35, 0.66, 0.17, 0.58, 0.28, 0.11, 0.53, 0.26, 0.24, 0.63, 0.81, 0.67, 0.68, 0.12, 0.67, 0.31, 0.74, 0.77, 0.0, 0.52, 0.6, 0.76, 0.98]\n",
      "centroid 5  : [0.7, 0.93, 0.42, 0.91, 0.42, 0.99, 0.35, 0.17, 0.62, 0.1, 0.18, 0.85, 0.88, 0.22, 0.87, 0.42, 0.55, 0.44, 0.84, 0.56, 0.92, 0.53, 0.12, 0.71, 0.82, 0.74, 0.57, 0.33, 0.36, 0.43]\n",
      "centroid 6  : [0.11, 0.45, 0.12, 0.78, 0.79, 0.15, 0.46, 0.19, 0.66, 0.37, 0.18, 0.4, 0.52, 0.03, 0.53, 0.08, 0.62, 0.34, 0.31, 0.01, 0.31, 0.83, 0.47, 0.13, 0.33, 0.24, 0.36, 0.29, 0.45, 0.02]\n",
      "centroid 7  : [0.26, 0.67, 0.45, 0.62, 0.25, 0.79, 0.57, 0.81, 0.95, 0.45, 0.17, 0.61, 0.2, 0.14, 0.05, 0.18, 0.98, 0.44, 0.8, 0.42, 0.92, 0.99, 0.14, 0.66, 0.99, 0.54, 0.01, 0.97, 0.33, 0.1]\n",
      "------------Generation: 30 -----------------\n"
     ]
    },
    {
     "name": "stdout",
     "output_type": "stream",
     "text": [
      "iBest Fitness: 0.9061288065439618\n",
      "all index: [6, 6, 6, 6, 6, 6, 6, 6, 6, 6, 6, 6, 6, 6, 6, 6, 6, 6, 6, 6, 6, 6, 6, 6, 6, 6, 6, 6, 6, 6, 6, 6, 6, 6, 6, 6, 6, 6, 6, 6, 6, 6, 6, 6, 6, 6, 6, 6, 6, 6, 6, 6, 6, 6, 6, 6, 6, 6, 6, 6, 6, 6, 6, 6, 6, 6, 6, 6, 6, 6, 6, 6, 6, 6, 6, 6, 6, 6, 6]\n",
      "Clusters centroid:\n",
      "centroid 0  : [0.62, 0.53, 0.97, 0.71, 0.68, 0.15, 0.79, 0.64, 0.91, 0.98, 0.65, 0.2, 0.03, 0.12, 0.23, 0.15, 0.17, 0.95, 0.51, 0.03, 0.91, 0.3, 0.11, 0.62, 0.97, 0.93, 0.87, 0.82, 0.37, 0.29]\n",
      "centroid 1  : [0.11, 0.46, 0.46, 1.0, 0.56, 0.59, 0.86, 0.78, 0.11, 0.72, 0.28, 0.88, 0.05, 0.94, 0.57, 0.64, 0.63, 0.83, 0.97, 0.15, 0.81, 0.68, 0.97, 0.13, 0.45, 0.14, 0.46, 0.95, 0.17, 0.16]\n",
      "centroid 2  : [0.98, 0.07, 0.12, 0.51, 1.0, 0.18, 0.65, 0.38, 0.7, 0.05, 0.75, 0.01, 0.66, 0.93, 0.67, 0.38, 0.28, 0.97, 0.05, 0.04, 0.33, 0.12, 0.09, 0.98, 0.7, 0.9, 0.1, 0.56, 0.61, 0.22]\n",
      "centroid 3  : [0.08, 0.41, 0.02, 0.65, 0.72, 0.44, 0.72, 0.39, 0.48, 0.18, 0.18, 0.02, 0.94, 0.69, 0.1, 0.74, 0.91, 0.03, 0.92, 0.32, 0.94, 0.79, 0.13, 0.55, 0.73, 0.8, 0.63, 0.16, 0.41, 0.44]\n",
      "centroid 4  : [1.0, 0.36, 0.57, 0.23, 0.97, 0.96, 0.77, 0.35, 0.66, 0.17, 0.58, 0.28, 0.11, 0.53, 0.26, 0.24, 0.63, 0.81, 0.67, 0.68, 0.12, 0.67, 0.31, 0.74, 0.77, 0.0, 0.52, 0.6, 0.76, 0.98]\n",
      "centroid 5  : [0.7, 0.93, 0.42, 0.91, 0.42, 0.99, 0.35, 0.17, 0.62, 0.1, 0.18, 0.85, 0.88, 0.22, 0.87, 0.42, 0.55, 0.44, 0.84, 0.56, 0.92, 0.53, 0.12, 0.71, 0.82, 0.74, 0.57, 0.33, 0.36, 0.43]\n",
      "centroid 6  : [0.11, 0.45, 0.12, 0.78, 0.79, 0.15, 0.46, 0.19, 0.66, 0.37, 0.18, 0.4, 0.52, 0.03, 0.53, 0.08, 0.62, 0.34, 0.31, 0.01, 0.31, 0.83, 0.47, 0.13, 0.33, 0.24, 0.36, 0.29, 0.45, 0.02]\n",
      "centroid 7  : [0.26, 0.67, 0.45, 0.62, 0.25, 0.79, 0.57, 0.81, 0.95, 0.45, 0.17, 0.61, 0.2, 0.14, 0.05, 0.18, 0.98, 0.44, 0.8, 0.42, 0.92, 0.99, 0.14, 0.66, 0.99, 0.54, 0.01, 0.97, 0.33, 0.1]\n"
     ]
    }
   ],
   "source": [
    "\n",
    "if __name__ == '__main__':\n",
    "    config_file = \"config.txt\"\n",
    "#     if(NORMALIZATION):\n",
    "#         data = pd.read_csv('data/iris.csv', header=None)\n",
    "\n",
    "#         data = minmax(data)  # normalize\n",
    "#     else:\n",
    "#         data = pd.read_csv('result/norm_data.csv', header=None)\n",
    "\n",
    "    # size of column\n",
    "    dim = data.shape[1]\n",
    "\n",
    "    # kmeans parameters & GA parameters\n",
    "    generationCount = 0\n",
    "    budget, kmax, Ps, Pm, Pc, numOfInd = readVars(config_file)\n",
    "\n",
    "    budget = 30\n",
    "    kmax = 8\n",
    "#     numOfInd =20\n",
    "#     Ps =0.4\n",
    "#     Pm =0.05\n",
    "#     Pc =0.8\n",
    "    \n",
    "    print(\"-------------GA Info-------------------\")\n",
    "    print(\"budget\", budget)\n",
    "    print(\"kmax\", kmax)\n",
    "    print(\"numOfInd\", numOfInd)\n",
    "    print(\"Ps\", Ps)\n",
    "    print(\"Pm\", Pm)\n",
    "    print(\"Pc\", Pc)\n",
    "    print(\"---------------------------------------\")\n",
    "\n",
    "    # dim or pattern id \n",
    "    chromosome_length = kmax * dim\n",
    "\n",
    "    #-------------------------------------------------------#\n",
    "    # \t\t\t\t\t\t\tmain \t\t\t\t\t\t#\n",
    "    #-------------------------------------------------------#\n",
    "    initial = Generation(numOfInd, 0)\n",
    "    initial.randomGenerateChromosomes(\n",
    "        chromosome_length)  # initial generate chromosome\n",
    "\n",
    "    clustering = Clustering(initial, data, kmax)  # eval fit of chromosomes\n",
    "\n",
    "    # ------------------calc fitness------------------#\n",
    "    generation = clustering.calcChromosomesFit()\n",
    "\n",
    "    # ------------------------GA----------------------#\n",
    "    while generationCount <= budget:\n",
    "        GA = Genetic(numOfInd, Ps, Pm, Pc, budget, data, generationCount, kmax)\n",
    "        generation, generationCount = GA.geneticProcess(\n",
    "            generation)\n",
    "        iBest = generation.chromosomes[0]\n",
    "        clustering.printIBest(iBest)\n",
    "\n",
    "    # ------------------output result-------------------#\n",
    "#     clustering.output_result(iBest, data)"
   ]
  },
  {
   "cell_type": "code",
   "execution_count": 49,
   "metadata": {},
   "outputs": [
    {
     "ename": "NameError",
     "evalue": "name 'clustering' is not defined",
     "output_type": "error",
     "traceback": [
      "\u001b[1;31m---------------------------------------------------------------------------\u001b[0m",
      "\u001b[1;31mNameError\u001b[0m                                 Traceback (most recent call last)",
      "\u001b[1;32m<ipython-input-49-b74af2c01cb2>\u001b[0m in \u001b[0;36m<module>\u001b[1;34m\u001b[0m\n\u001b[0;32m      1\u001b[0m \u001b[1;31m# clustering.getLabels()\u001b[0m\u001b[1;33m\u001b[0m\u001b[1;33m\u001b[0m\u001b[1;33m\u001b[0m\u001b[0m\n\u001b[1;32m----> 2\u001b[1;33m \u001b[0ma\u001b[0m \u001b[1;33m=\u001b[0m \u001b[0mclustering\u001b[0m\u001b[1;33m.\u001b[0m\u001b[0mgetLabels\u001b[0m\u001b[1;33m(\u001b[0m\u001b[1;33m)\u001b[0m\u001b[1;33m\u001b[0m\u001b[1;33m\u001b[0m\u001b[0m\n\u001b[0m\u001b[0;32m      3\u001b[0m \u001b[0mlen\u001b[0m\u001b[1;33m(\u001b[0m\u001b[0ma\u001b[0m\u001b[1;33m)\u001b[0m\u001b[1;33m\u001b[0m\u001b[1;33m\u001b[0m\u001b[0m\n",
      "\u001b[1;31mNameError\u001b[0m: name 'clustering' is not defined"
     ]
    }
   ],
   "source": [
    "# clustering.getLabels()\n",
    "a = clustering.getLabels()\n",
    "len(a)\n"
   ]
  },
  {
   "cell_type": "code",
   "execution_count": 51,
   "metadata": {},
   "outputs": [
    {
     "ename": "NameError",
     "evalue": "name 'a' is not defined",
     "output_type": "error",
     "traceback": [
      "\u001b[1;31m---------------------------------------------------------------------------\u001b[0m",
      "\u001b[1;31mNameError\u001b[0m                                 Traceback (most recent call last)",
      "\u001b[1;32m<ipython-input-51-9e1312ab4fc7>\u001b[0m in \u001b[0;36m<module>\u001b[1;34m\u001b[0m\n\u001b[1;32m----> 1\u001b[1;33m \u001b[0mGAKMeans_Sil\u001b[0m \u001b[1;33m=\u001b[0m \u001b[0mmetrics\u001b[0m\u001b[1;33m.\u001b[0m\u001b[0msilhouette_score\u001b[0m\u001b[1;33m(\u001b[0m\u001b[0mX\u001b[0m\u001b[1;33m,\u001b[0m \u001b[0ma\u001b[0m\u001b[1;33m,\u001b[0m \u001b[0mmetric\u001b[0m\u001b[1;33m=\u001b[0m\u001b[1;34m'euclidean'\u001b[0m\u001b[1;33m)\u001b[0m\u001b[1;33m\u001b[0m\u001b[1;33m\u001b[0m\u001b[0m\n\u001b[0m\u001b[0;32m      2\u001b[0m \u001b[0mGAKMeans_Sil\u001b[0m\u001b[1;33m\u001b[0m\u001b[1;33m\u001b[0m\u001b[0m\n",
      "\u001b[1;31mNameError\u001b[0m: name 'a' is not defined"
     ]
    }
   ],
   "source": [
    "GAKMeans_Sil = metrics.silhouette_score(X, a, metric='euclidean')\n",
    "GAKMeans_Sil"
   ]
  },
  {
   "cell_type": "code",
   "execution_count": 52,
   "metadata": {},
   "outputs": [],
   "source": [
    "X = data\n",
    "colors = np.array(['g', 'r', 'b', 'c', 'k', 'y','royalblue', 'maroon', 'forestgreen',\n",
    "                   'mediumorchid', 'tan', 'deeppink', 'olive', 'goldenrod', 'lightcyan', 'navy'])"
   ]
  },
  {
   "cell_type": "code",
   "execution_count": 53,
   "metadata": {},
   "outputs": [
    {
     "ename": "NameError",
     "evalue": "name 'a' is not defined",
     "output_type": "error",
     "traceback": [
      "\u001b[1;31m---------------------------------------------------------------------------\u001b[0m",
      "\u001b[1;31mNameError\u001b[0m                                 Traceback (most recent call last)",
      "\u001b[1;32m<ipython-input-53-61d306463a3c>\u001b[0m in \u001b[0;36m<module>\u001b[1;34m\u001b[0m\n\u001b[0;32m      8\u001b[0m \u001b[0max\u001b[0m\u001b[1;33m.\u001b[0m\u001b[0mscatter\u001b[0m\u001b[1;33m(\u001b[0m\u001b[0mX_PCA\u001b[0m\u001b[1;33m[\u001b[0m\u001b[1;33m:\u001b[0m\u001b[1;33m,\u001b[0m \u001b[1;36m0\u001b[0m\u001b[1;33m]\u001b[0m\u001b[1;33m,\u001b[0m \u001b[0mX_PCA\u001b[0m\u001b[1;33m[\u001b[0m\u001b[1;33m:\u001b[0m\u001b[1;33m,\u001b[0m \u001b[1;36m1\u001b[0m\u001b[1;33m]\u001b[0m\u001b[1;33m,\u001b[0m\u001b[0mc\u001b[0m\u001b[1;33m=\u001b[0m\u001b[1;34m'green'\u001b[0m\u001b[1;33m,\u001b[0m \u001b[0mmarker\u001b[0m\u001b[1;33m=\u001b[0m\u001b[1;34m'o'\u001b[0m\u001b[1;33m,\u001b[0m \u001b[0ms\u001b[0m\u001b[1;33m=\u001b[0m\u001b[1;36m10\u001b[0m\u001b[1;33m)\u001b[0m\u001b[1;33m\u001b[0m\u001b[1;33m\u001b[0m\u001b[0m\n\u001b[0;32m      9\u001b[0m \u001b[0max\u001b[0m \u001b[1;33m=\u001b[0m \u001b[0mfig\u001b[0m\u001b[1;33m.\u001b[0m\u001b[0madd_subplot\u001b[0m\u001b[1;33m(\u001b[0m\u001b[1;36m122\u001b[0m\u001b[1;33m)\u001b[0m\u001b[1;33m\u001b[0m\u001b[1;33m\u001b[0m\u001b[0m\n\u001b[1;32m---> 10\u001b[1;33m \u001b[0max\u001b[0m\u001b[1;33m.\u001b[0m\u001b[0mscatter\u001b[0m\u001b[1;33m(\u001b[0m\u001b[0mX_PCA\u001b[0m\u001b[1;33m[\u001b[0m\u001b[1;33m:\u001b[0m\u001b[1;33m,\u001b[0m \u001b[1;36m0\u001b[0m\u001b[1;33m]\u001b[0m\u001b[1;33m,\u001b[0m \u001b[0mX_PCA\u001b[0m\u001b[1;33m[\u001b[0m\u001b[1;33m:\u001b[0m\u001b[1;33m,\u001b[0m \u001b[1;36m1\u001b[0m\u001b[1;33m]\u001b[0m\u001b[1;33m,\u001b[0m \u001b[0mc\u001b[0m\u001b[1;33m=\u001b[0m\u001b[0mcolors\u001b[0m\u001b[1;33m[\u001b[0m\u001b[0ma\u001b[0m\u001b[1;33m]\u001b[0m\u001b[1;33m,\u001b[0m \u001b[0mmarker\u001b[0m\u001b[1;33m=\u001b[0m\u001b[1;34m'*'\u001b[0m\u001b[1;33m)\u001b[0m\u001b[1;33m\u001b[0m\u001b[1;33m\u001b[0m\u001b[0m\n\u001b[0m",
      "\u001b[1;31mNameError\u001b[0m: name 'a' is not defined"
     ]
    },
    {
     "data": {
      "image/png": "[encoded data removed]",
      "text/plain": [
       "<Figure size 1152x576 with 2 Axes>"
      ]
     },
     "metadata": {},
     "output_type": "display_data"
    }
   ],
   "source": [
    "\n",
    "########## PCA of features for GA_Kmeans\n",
    "from sklearn.decomposition import PCA\n",
    "pca_model = PCA(n_components=2)\n",
    "X_PCA = pca_model.fit_transform(X)\n",
    "\n",
    "fig = plt.figure(figsize=(16, 8))\n",
    "ax = fig.add_subplot(121)\n",
    "ax.scatter(X_PCA[:, 0], X_PCA[:, 1],c='green', marker='o', s=10)\n",
    "ax = fig.add_subplot(122)\n",
    "ax.scatter(X_PCA[:, 0], X_PCA[:, 1], c=colors[a], marker='*')\n"
   ]
  },
  {
   "cell_type": "code",
   "execution_count": 54,
   "metadata": {},
   "outputs": [
    {
     "name": "stdout",
     "output_type": "stream",
     "text": [
      "\u001b[34mk-mean algorithm time is : 0.06279802322387695\n",
      "\u001b[39m\n"
     ]
    }
   ],
   "source": [
    "\n",
    "#### kmeans algorithm\n",
    "from sklearn.cluster import KMeans\n",
    "start = time.time()\n",
    "kmean = KMeans(n_clusters=8, max_iter=500)\n",
    "kmean.fit(X)\n",
    "end = time.time()\n",
    "print(Fore.BLUE + \"k-mean algorithm time is :\", end - start)\n",
    "print(Fore.RESET)\n",
    "\n",
    "\n"
   ]
  },
  {
   "cell_type": "code",
   "execution_count": 55,
   "metadata": {},
   "outputs": [
    {
     "data": {
      "text/plain": [
       "<matplotlib.collections.PathCollection at 0x27f14aac978>"
      ]
     },
     "execution_count": 55,
     "metadata": {},
     "output_type": "execute_result"
    },
    {
     "data": {
      "image/png": "[encoded data removed]",
      "text/plain": [
       "<Figure size 1152x576 with 2 Axes>"
      ]
     },
     "metadata": {},
     "output_type": "display_data"
    }
   ],
   "source": [
    "########## PCA of features for Kmeans\n",
    "from sklearn.decomposition import PCA\n",
    "pca_model = PCA(n_components=2)\n",
    "X_PCA = pca_model.fit_transform(X)\n",
    "\n",
    "fig = plt.figure(figsize=(16, 8))\n",
    "ax = fig.add_subplot(121)\n",
    "ax.scatter(X_PCA[:, 0], X_PCA[:, 1],c='green', marker='o', s=10)\n",
    "ax = fig.add_subplot(122)\n",
    "ax.scatter(X_PCA[:, 0], X_PCA[:, 1], c=colors[kmean.labels_], marker='*')"
   ]
  },
  {
   "cell_type": "code",
   "execution_count": 56,
   "metadata": {},
   "outputs": [],
   "source": [
    "from sklearn.cluster import Birch\n",
    "\n",
    "brc = Birch(branching_factor=50, n_clusters=4, threshold=0.5, compute_labels=True)\n",
    "brc.fit(X) \n",
    "# Birch(branching_factor=50, compute_labels=True, copy=True, n_clusters=None,\n",
    "#    threshold=0.5)\n",
    "ClusterBirch = brc.predict(X)\n"
   ]
  },
  {
   "cell_type": "code",
   "execution_count": 57,
   "metadata": {},
   "outputs": [
    {
     "data": {
      "text/plain": [
       "<matplotlib.collections.PathCollection at 0x27f14f8ac50>"
      ]
     },
     "execution_count": 57,
     "metadata": {},
     "output_type": "execute_result"
    },
    {
     "data": {
      "image/png": "[encoded data removed]",
      "text/plain": [
       "<Figure size 1152x576 with 2 Axes>"
      ]
     },
     "metadata": {},
     "output_type": "display_data"
    }
   ],
   "source": [
    "fig = plt.figure(figsize=(16, 8))\n",
    "ax = fig.add_subplot(121)\n",
    "ax.scatter(X_PCA[:, 0], X_PCA[:, 1],c='green', marker='o', s=10)\n",
    "ax = fig.add_subplot(122)\n",
    "ax.scatter(X_PCA[:, 0], X_PCA[:, 1], c=colors[ClusterBirch], marker='*')"
   ]
  },
  {
   "cell_type": "code",
   "execution_count": 65,
   "metadata": {},
   "outputs": [],
   "source": [
    "\n",
    "def WOA_clustering(X, numberOfCluster=3,iterations=40, numberOfWhale=10):\n",
    "\n",
    "    dataPoints=X.shape[0]\n",
    "    features=X.shape[1]\n",
    "    #intialise\n",
    "\n",
    "    centresOfwhale=np.zeros((numberOfWhale,numberOfCluster,features))\n",
    "\n",
    "\n",
    "    for whale in range(numberOfWhale):\n",
    "        for cluster in range(numberOfCluster):\n",
    "            for feature in range(features):\n",
    "                centresOfwhale[whale,cluster,feature]=float(random.randint(np.min(X[:,feature]),np.max(X[:,feature])))\n",
    "    bestWhale=0\n",
    "    for iteration in range(iterations):\n",
    "#         print(iteration)\n",
    "        #dataPointsInCluster=[[[] for cluster in range(numberOfCluster)] for whale in range(numberOfWhale)]\n",
    "        dataPointsInCluster=np.zeros((numberOfWhale,numberOfCluster))\n",
    "        bestWhale=0\n",
    "        bestDist=float(\"inf\")\n",
    "        startTime=time.time()\n",
    "        for whale in range(numberOfWhale):\n",
    "            dist=0.00\n",
    "            clus1=np.zeros((features))\n",
    "            clus2=np.zeros((features))\n",
    "            for dataPoint in range(dataPoints):\n",
    "                bestEuclidianDist=float(\"inf\")\n",
    "                bestCluster=0\n",
    "                for cluster in range(numberOfCluster):\n",
    "                    euclidDist=np.linalg.norm(centresOfwhale[whale,cluster]-X[dataPoint,:])\n",
    "                    if(euclidDist<bestEuclidianDist):\n",
    "                        bestEuclidianDist=euclidDist\n",
    "                        bestCluster=cluster\n",
    "                dist=dist+bestEuclidianDist\n",
    "                #dataPointsInCluster[whale][bestCluster].append(dataPoint)\n",
    "                dataPointsInCluster[whale][bestCluster]=dataPointsInCluster[whale][bestCluster]+1\n",
    "                if bestCluster==0:\n",
    "                    clus1=clus1+X[dataPoint]\n",
    "                if bestCluster==1:\n",
    "                    clus2=clus2+X[dataPoint]\n",
    "            if(dist<bestDist):\n",
    "                bestDist=dist\n",
    "                bestWhale=whale\n",
    "\n",
    "            if(dataPointsInCluster[whale][0]!=0):\n",
    "                centresOfwhale[whale][0]=clus1/dataPointsInCluster[whale][0]\n",
    "\n",
    "            if(dataPointsInCluster[whale][1]!=0):\n",
    "                centresOfwhale[whale][1]=clus1/dataPointsInCluster[whale][1]\n",
    "        #shift the centroid in the centre of the datapoints inside cluster\n",
    "\n",
    "        '''    \n",
    "        print(time.time()-startTime)\n",
    "        startTime=time.time();\n",
    "        print(\"shift started\")\n",
    "        for whale in range(numberOfWhale):\n",
    "            for cluster in range(numberOfCluster):\n",
    "                numberOfPoint=len(dataPointsInCluster[whale][cluster])\n",
    "                if numberOfPoint==0 :\n",
    "                    continue\n",
    "                for feature in range(features):\n",
    "                    sum=0.00\n",
    "                    for dataPoint in dataPointsInCluster[whale][cluster]:\n",
    "                        sum=sum+X[dataPoint][feature];\n",
    "                    sum=sum/numberOfPoint\n",
    "                    centresOfwhale[whale,cluster,feature]=sum'''\n",
    "\n",
    "        #shift centroids using equations of WOA\n",
    "    #     print(time.time()-startTime)\n",
    "        startTime=time.time();\n",
    "    #     print(\"woa started\")\n",
    "        a=2-iteration*((2.00)/iterations) #eqn 2.3\n",
    "        a2=-1+iteration*((-1.00)/iterations)\n",
    "        for whale in range(numberOfWhale):\n",
    "            r1=random.random()\n",
    "            r2=random.random()\n",
    "            A=2*a*r1-a;  # Eq. (2.3) in the paper\n",
    "            C=2*r2;      # Eq. (2.4) in the paper\n",
    "            p=random.random()\n",
    "            b=1;               #  parameters in Eq. (2.5)\n",
    "            l=(a2-1)*random.random()+1;   #  parameters in Eq. (2.5)\n",
    "\n",
    "            for cluster in range(numberOfCluster):\n",
    "                if p<0.5 :\n",
    "                    if abs(A)>=1 :\n",
    "                        rand_leader_index = int(math.floor((numberOfWhale-1)*random.random()+1));\n",
    "                        X_rand = centresOfwhale[rand_leader_index]\n",
    "                        D_X_rand=abs(C*X_rand[cluster]-centresOfwhale[whale,cluster]); # Eq. (2.7)\n",
    "                        centresOfwhale[whale,cluster]=X_rand[cluster]-A*D_X_rand;      # Eq. (2.8)\n",
    "                    elif abs(A)<1 :\n",
    "                        D_Leader=abs(C*centresOfwhale[bestWhale,cluster]-centresOfwhale[whale,cluster]); # Eq. (2.1)\n",
    "                        centresOfwhale[whale,cluster]=centresOfwhale[bestWhale,cluster]-A*D_Leader;      # Eq. (2.2)\n",
    "                elif p>=0.5 :\n",
    "                    distance2Leader=abs(centresOfwhale[bestWhale,cluster]-centresOfwhale[whale,cluster]);      # Eq. (2.5)\n",
    "                    centresOfwhale[whale,cluster]=distance2Leader*math.exp(b*l)*math.cos(l*2*3.14)+centresOfwhale[bestWhale,cluster];\n",
    "    #     print(time.time()-startTime)\n",
    "        startTime=time.time();\n",
    "\n",
    "    WOACluster=[0 for dataPoint in range(dataPoints)]\n",
    "    for dataPoint in range(dataPoints):\n",
    "        d1=np.linalg.norm(centresOfwhale[bestWhale,0]-X[dataPoint,:])\n",
    "        d2=np.linalg.norm(centresOfwhale[bestWhale,1]-X[dataPoint,:])\n",
    "        d3=np.linalg.norm(centresOfwhale[bestWhale,2]-X[dataPoint,:])\n",
    "    #     print(d1,d2, d3)\n",
    "        if d1<d2 and d1<d3 :\n",
    "            WOACluster[dataPoint]=0\n",
    "        elif d2<d1 and d2<d3:\n",
    "            WOACluster[dataPoint]=1\n",
    "        elif d3<d1 and d3<d2:\n",
    "            WOACluster[dataPoint]=2\n",
    "    return WOACluster\n"
   ]
  },
  {
   "cell_type": "code",
   "execution_count": 93,
   "metadata": {},
   "outputs": [
    {
     "ename": "ValueError",
     "evalue": "labels_true must be 1D: shape is (79, 30)",
     "output_type": "error",
     "traceback": [
      "\u001b[1;31m---------------------------------------------------------------------------\u001b[0m",
      "\u001b[1;31mValueError\u001b[0m                                Traceback (most recent call last)",
      "\u001b[1;32m<ipython-input-93-b8b2dc5d4da8>\u001b[0m in \u001b[0;36m<module>\u001b[1;34m\u001b[0m\n\u001b[0;32m      3\u001b[0m \u001b[1;31m# WOAKMeans_Sil = metrics.silhouette_score(X, WOACluster, metric='euclidean')\u001b[0m\u001b[1;33m\u001b[0m\u001b[1;33m\u001b[0m\u001b[1;33m\u001b[0m\u001b[0m\n\u001b[0;32m      4\u001b[0m \u001b[1;31m# WOAKMeans_Sil\u001b[0m\u001b[1;33m\u001b[0m\u001b[1;33m\u001b[0m\u001b[1;33m\u001b[0m\u001b[0m\n\u001b[1;32m----> 5\u001b[1;33m \u001b[0mv_measure_score\u001b[0m\u001b[1;33m(\u001b[0m\u001b[0mX\u001b[0m\u001b[1;33m,\u001b[0m \u001b[0mWOACluster\u001b[0m\u001b[1;33m)\u001b[0m\u001b[1;33m\u001b[0m\u001b[1;33m\u001b[0m\u001b[0m\n\u001b[0m",
      "\u001b[1;32mc:\\program files\\python36\\lib\\site-packages\\sklearn\\metrics\\cluster\\_supervised.py\u001b[0m in \u001b[0;36mv_measure_score\u001b[1;34m(labels_true, labels_pred, beta)\u001b[0m\n\u001b[0;32m    560\u001b[0m     \"\"\"\n\u001b[0;32m    561\u001b[0m     return homogeneity_completeness_v_measure(labels_true, labels_pred,\n\u001b[1;32m--> 562\u001b[1;33m                                               beta=beta)[2]\n\u001b[0m\u001b[0;32m    563\u001b[0m \u001b[1;33m\u001b[0m\u001b[0m\n\u001b[0;32m    564\u001b[0m \u001b[1;33m\u001b[0m\u001b[0m\n",
      "\u001b[1;32mc:\\program files\\python36\\lib\\site-packages\\sklearn\\metrics\\cluster\\_supervised.py\u001b[0m in \u001b[0;36mhomogeneity_completeness_v_measure\u001b[1;34m(labels_true, labels_pred, beta)\u001b[0m\n\u001b[0;32m    300\u001b[0m     \u001b[0mv_measure_score\u001b[0m\u001b[1;33m\u001b[0m\u001b[1;33m\u001b[0m\u001b[0m\n\u001b[0;32m    301\u001b[0m     \"\"\"\n\u001b[1;32m--> 302\u001b[1;33m     \u001b[0mlabels_true\u001b[0m\u001b[1;33m,\u001b[0m \u001b[0mlabels_pred\u001b[0m \u001b[1;33m=\u001b[0m \u001b[0mcheck_clusterings\u001b[0m\u001b[1;33m(\u001b[0m\u001b[0mlabels_true\u001b[0m\u001b[1;33m,\u001b[0m \u001b[0mlabels_pred\u001b[0m\u001b[1;33m)\u001b[0m\u001b[1;33m\u001b[0m\u001b[1;33m\u001b[0m\u001b[0m\n\u001b[0m\u001b[0;32m    303\u001b[0m \u001b[1;33m\u001b[0m\u001b[0m\n\u001b[0;32m    304\u001b[0m     \u001b[1;32mif\u001b[0m \u001b[0mlen\u001b[0m\u001b[1;33m(\u001b[0m\u001b[0mlabels_true\u001b[0m\u001b[1;33m)\u001b[0m \u001b[1;33m==\u001b[0m \u001b[1;36m0\u001b[0m\u001b[1;33m:\u001b[0m\u001b[1;33m\u001b[0m\u001b[1;33m\u001b[0m\u001b[0m\n",
      "\u001b[1;32mc:\\program files\\python36\\lib\\site-packages\\sklearn\\metrics\\cluster\\_supervised.py\u001b[0m in \u001b[0;36mcheck_clusterings\u001b[1;34m(labels_true, labels_pred)\u001b[0m\n\u001b[0;32m     53\u001b[0m     \u001b[1;32mif\u001b[0m \u001b[0mlabels_true\u001b[0m\u001b[1;33m.\u001b[0m\u001b[0mndim\u001b[0m \u001b[1;33m!=\u001b[0m \u001b[1;36m1\u001b[0m\u001b[1;33m:\u001b[0m\u001b[1;33m\u001b[0m\u001b[1;33m\u001b[0m\u001b[0m\n\u001b[0;32m     54\u001b[0m         raise ValueError(\n\u001b[1;32m---> 55\u001b[1;33m             \"labels_true must be 1D: shape is %r\" % (labels_true.shape,))\n\u001b[0m\u001b[0;32m     56\u001b[0m     \u001b[1;32mif\u001b[0m \u001b[0mlabels_pred\u001b[0m\u001b[1;33m.\u001b[0m\u001b[0mndim\u001b[0m \u001b[1;33m!=\u001b[0m \u001b[1;36m1\u001b[0m\u001b[1;33m:\u001b[0m\u001b[1;33m\u001b[0m\u001b[1;33m\u001b[0m\u001b[0m\n\u001b[0;32m     57\u001b[0m         raise ValueError(\n",
      "\u001b[1;31mValueError\u001b[0m: labels_true must be 1D: shape is (79, 30)"
     ]
    }
   ],
   "source": [
    "# numberOfCluster=4,iterations=30\n",
    "WOACluster = WOA_clustering(X=data.values, numberOfCluster=4,iterations=30, numberOfWhale=10)\n",
    "WOAKMeans_Sil = metrics.silhouette_score(X, WOACluster, metric='euclidean')\n",
    "WOAKMeans_Sil\n"
   ]
  },
  {
   "cell_type": "code",
   "execution_count": 67,
   "metadata": {},
   "outputs": [
    {
     "data": {
      "text/plain": [
       "<matplotlib.collections.PathCollection at 0x27f150db780>"
      ]
     },
     "execution_count": 67,
     "metadata": {},
     "output_type": "execute_result"
    },
    {
     "data": {
      "image/png": "[encoded data removed]",
      "text/plain": [
       "<Figure size 1152x576 with 2 Axes>"
      ]
     },
     "metadata": {},
     "output_type": "display_data"
    }
   ],
   "source": [
    "fig = plt.figure(figsize=(16, 8))\n",
    "ax = fig.add_subplot(121)\n",
    "ax.scatter(X_PCA[:, 0], X_PCA[:, 1],c='green', marker='o', s=10)\n",
    "ax = fig.add_subplot(122)\n",
    "ax.scatter(X_PCA[:, 0], X_PCA[:, 1], c=colors[WOACluster], marker='*')"
   ]
  },
  {
   "cell_type": "code",
   "execution_count": 61,
   "metadata": {},
   "outputs": [
    {
     "ename": "NameError",
     "evalue": "name 'a' is not defined",
     "output_type": "error",
     "traceback": [
      "\u001b[1;31m---------------------------------------------------------------------------\u001b[0m",
      "\u001b[1;31mNameError\u001b[0m                                 Traceback (most recent call last)",
      "\u001b[1;32m<ipython-input-61-9e1312ab4fc7>\u001b[0m in \u001b[0;36m<module>\u001b[1;34m\u001b[0m\n\u001b[1;32m----> 1\u001b[1;33m \u001b[0mGAKMeans_Sil\u001b[0m \u001b[1;33m=\u001b[0m \u001b[0mmetrics\u001b[0m\u001b[1;33m.\u001b[0m\u001b[0msilhouette_score\u001b[0m\u001b[1;33m(\u001b[0m\u001b[0mX\u001b[0m\u001b[1;33m,\u001b[0m \u001b[0ma\u001b[0m\u001b[1;33m,\u001b[0m \u001b[0mmetric\u001b[0m\u001b[1;33m=\u001b[0m\u001b[1;34m'euclidean'\u001b[0m\u001b[1;33m)\u001b[0m\u001b[1;33m\u001b[0m\u001b[1;33m\u001b[0m\u001b[0m\n\u001b[0m\u001b[0;32m      2\u001b[0m \u001b[0mGAKMeans_Sil\u001b[0m\u001b[1;33m\u001b[0m\u001b[1;33m\u001b[0m\u001b[0m\n",
      "\u001b[1;31mNameError\u001b[0m: name 'a' is not defined"
     ]
    }
   ],
   "source": [
    "GAKMeans_Sil = metrics.silhouette_score(X, a, metric='euclidean')\n",
    "GAKMeans_Sil"
   ]
  },
  {
   "cell_type": "code",
   "execution_count": 62,
   "metadata": {},
   "outputs": [
    {
     "name": "stdout",
     "output_type": "stream",
     "text": [
      "Kmeans silhouette  0.05523438065407894\n"
     ]
    }
   ],
   "source": [
    "labels = kmean.labels_\n",
    "KMeans_Sil = metrics.silhouette_score(X, kmean.labels_, metric='euclidean')\n",
    "print('Kmeans silhouette ',KMeans_Sil)"
   ]
  },
  {
   "cell_type": "code",
   "execution_count": 63,
   "metadata": {},
   "outputs": [
    {
     "name": "stdout",
     "output_type": "stream",
     "text": [
      "Birch Silhouette Coefficient: 0.197\n"
     ]
    }
   ],
   "source": [
    "\n",
    "print(\"Birch Silhouette Coefficient: %0.3f\"\n",
    "      % metrics.silhouette_score(X, ClusterBirch, metric='sqeuclidean'))\n"
   ]
  },
  {
   "cell_type": "code",
   "execution_count": 64,
   "metadata": {},
   "outputs": [
    {
     "data": {
      "text/plain": [
       "-0.13127457564177258"
      ]
     },
     "execution_count": 64,
     "metadata": {},
     "output_type": "execute_result"
    }
   ],
   "source": [
    "WOAKMeans_Sil = metrics.silhouette_score(X, WOACluster, metric='euclidean')\n",
    "WOAKMeans_Sil"
   ]
  },
  {
   "cell_type": "code",
   "execution_count": null,
   "metadata": {},
   "outputs": [],
   "source": []
  },
  {
   "cell_type": "code",
   "execution_count": 309,
   "metadata": {},
   "outputs": [],
   "source": [
    "# normalizer = Normalizer()\n",
    "# normalizer.normalize('اصلاح نويسه ها و استفاده از نیم‌فاصله \\n پردازش را آسان مي كند')\n",
    "# # 'اصلاح نویسه‌ها و استفاده از نیم‌فاصله پردازش را آسان می‌کند'"
   ]
  },
  {
   "cell_type": "code",
   "execution_count": 310,
   "metadata": {},
   "outputs": [],
   "source": [
    "# sent_tokenize('ما هم برای وصل کردن آمدیم! ولی برای پردازش، جدا بهتر نیست؟')\n",
    "# # ['ما هم برای وصل کردن آمدیم!', 'ولی برای پردازش، جدا بهتر نیست؟']\n"
   ]
  },
  {
   "cell_type": "code",
   "execution_count": 107,
   "metadata": {},
   "outputs": [],
   "source": [
    "# word_tokenize('ولی برای پردازش، جدا بهتر نیست؟')\n",
    "# # ['ولی', 'برای', 'پردازش', '،', 'جدا', 'بهتر', 'نیست', '؟']"
   ]
  },
  {
   "cell_type": "code",
   "execution_count": 108,
   "metadata": {},
   "outputs": [],
   "source": [
    "# stemmer = Stemmer()\n",
    "# print(stemmer.stem(stemmer.stem('پردازش‌ها')))\n",
    "# # 'کتاب'"
   ]
  },
  {
   "cell_type": "code",
   "execution_count": 109,
   "metadata": {},
   "outputs": [],
   "source": [
    "# lemmatizer = Lemmatizer()\n",
    "# lemmatizer.lemmatize('می‌روم')\n",
    "# 'رفت#رو'"
   ]
  },
  {
   "cell_type": "code",
   "execution_count": 110,
   "metadata": {},
   "outputs": [],
   "source": [
    "# tagger = POSTagger(model='resources/postagger.model')\n",
    "# tagger.tag(word_tokenize('ما بسیار کتاب می‌خوانیم'))\n",
    "# [('ما', 'PRO'), ('بسیار', 'ADV'), ('کتاب', 'N'), ('می‌خوانیم', 'V')]"
   ]
  },
  {
   "cell_type": "code",
   "execution_count": 111,
   "metadata": {},
   "outputs": [],
   "source": [
    "# chunker = Chunker(model='resources/chunker.model')\n",
    "# tagged = tagger.tag(word_tokenize('کتاب خواندن را دوست داریم'))\n",
    "# tree2brackets(chunker.parse(tagged))\n",
    "# '[کتاب خواندن NP] [را POSTP] [دوست داریم VP]'"
   ]
  },
  {
   "cell_type": "code",
   "execution_count": 34,
   "metadata": {},
   "outputs": [],
   "source": [
    "# parser = DependencyParser(tagger=tagger, lemmatizer=lemmatizer)\n",
    "# parser.parse(word_tokenize('زنگ‌ها برای که به صدا درمی‌آید؟'))\n"
   ]
  },
  {
   "cell_type": "code",
   "execution_count": null,
   "metadata": {},
   "outputs": [],
   "source": []
  }
 ],
 "metadata": {
  "kernelspec": {
   "display_name": "Python 3",
   "language": "python",
   "name": "python3"
  },
  "language_info": {
   "codemirror_mode": {
    "name": "ipython",
    "version": 3
   },
   "file_extension": ".py",
   "mimetype": "text/x-python",
   "name": "python",
   "nbconvert_exporter": "python",
   "pygments_lexer": "ipython3",
   "version": "3.6.8"
  }
 },
 "nbformat": 4,
 "nbformat_minor": 2
}
